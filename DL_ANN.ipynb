{
  "nbformat": 4,
  "nbformat_minor": 0,
  "metadata": {
    "colab": {
      "provenance": [],
      "include_colab_link": true
    },
    "kernelspec": {
      "name": "python3",
      "display_name": "Python 3"
    },
    "language_info": {
      "name": "python"
    }
  },
  "cells": [
    {
      "cell_type": "markdown",
      "metadata": {
        "id": "view-in-github",
        "colab_type": "text"
      },
      "source": [
        "<a href=\"https://colab.research.google.com/github/amankv38/Deep-Learning/blob/main/DL_ANN.ipynb\" target=\"_parent\"><img src=\"https://colab.research.google.com/assets/colab-badge.svg\" alt=\"Open In Colab\"/></a>"
      ]
    },
    {
      "cell_type": "code",
      "source": [
        "from google.colab import drive\n",
        "drive.mount('/content/drive')"
      ],
      "metadata": {
        "colab": {
          "base_uri": "https://localhost:8080/"
        },
        "id": "foWeMP_TTzaw",
        "outputId": "3e6d53dd-5761-47c1-8a9f-e8c27e3944bf"
      },
      "execution_count": null,
      "outputs": [
        {
          "output_type": "stream",
          "name": "stdout",
          "text": [
            "Mounted at /content/drive\n"
          ]
        }
      ]
    },
    {
      "cell_type": "code",
      "source": [
        "import pandas as pd\n",
        "from sklearn.preprocessing import StandardScaler\n",
        "dataset=pd.read_csv('/content/drive/MyDrive/DL Datasets/heart1.csv')"
      ],
      "metadata": {
        "id": "baVsa0rYUACH"
      },
      "execution_count": null,
      "outputs": []
    },
    {
      "cell_type": "code",
      "source": [
        "# StandardScaler= StandardScaler()\n",
        "# Columns_to_scale=['age','trestbps','chol','thalach','oldpeak']\n",
        "# dataset[column_to_scale]=StandardScaler.fit_transform(dataset[columns_to_scale])\n",
        "X=dataset.iloc[:,0:13]\n",
        "y=dataset.iloc[:,13:14]"
      ],
      "metadata": {
        "id": "wfv2tv_zUFZt"
      },
      "execution_count": null,
      "outputs": []
    },
    {
      "cell_type": "code",
      "source": [
        "from sklearn.model_selection import train_test_split\n",
        "X_train,X_test,y_train,y_test=train_test_split(X,y,test_size=0.25,random_state=42)"
      ],
      "metadata": {
        "id": "2Yd8pG5RU2JL"
      },
      "execution_count": null,
      "outputs": []
    },
    {
      "cell_type": "code",
      "source": [
        "ss=StandardScaler()\n",
        "X_train=ss.fit_transform(X_train)\n",
        "X_test=ss.fit_transform(X_test)\n"
      ],
      "metadata": {
        "id": "g4MjGCaVVNwS"
      },
      "execution_count": null,
      "outputs": []
    },
    {
      "cell_type": "code",
      "source": [
        "from tensorflow.keras import Sequential\n",
        "from tensorflow.keras.layers import Dense,Dropout"
      ],
      "metadata": {
        "id": "FplxxSVWWd3r"
      },
      "execution_count": null,
      "outputs": []
    },
    {
      "cell_type": "code",
      "source": [
        "\n",
        "# Creating a pipeline\n",
        "model=Sequential()"
      ],
      "metadata": {
        "id": "nru3xMONWq7-"
      },
      "execution_count": null,
      "outputs": []
    },
    {
      "cell_type": "code",
      "source": [
        "# 1st hidden layer with input layer\n",
        "model.add(Dense(units=145,activation='relu',input_dim=13))"
      ],
      "metadata": {
        "id": "NQ71QxLKWxcG"
      },
      "execution_count": null,
      "outputs": []
    },
    {
      "cell_type": "code",
      "source": [
        "# 2nd hidden layer\n",
        "model.add(Dense(units=120,activation='relu',))"
      ],
      "metadata": {
        "id": "0LEdswbBXJZI"
      },
      "execution_count": null,
      "outputs": []
    },
    {
      "cell_type": "code",
      "source": [
        "# 3rd hidden layer\n",
        "model.add(Dense(units=70,activation='relu',))"
      ],
      "metadata": {
        "id": "7cfTv5-MXP6n"
      },
      "execution_count": null,
      "outputs": []
    },
    {
      "cell_type": "code",
      "source": [
        "# output layer\n",
        "model.add(Dense(units=1,activation='sigmoid'))"
      ],
      "metadata": {
        "id": "_GBh-BwBXY49"
      },
      "execution_count": null,
      "outputs": []
    },
    {
      "cell_type": "code",
      "source": [
        "model.summary()\n",
        "model.compile(optimizer='adam',loss='binary_crossentropy',metrics=['accuracy'])\n",
        "model_his=model.fit(X_train,y_train,validation_split=0.20, batch_size=55,epochs=25,verbose=1)"
      ],
      "metadata": {
        "colab": {
          "base_uri": "https://localhost:8080/"
        },
        "id": "fHuGnPRvXkXN",
        "outputId": "711d7ff2-b62f-4be0-d25a-4e35a003c2fb"
      },
      "execution_count": null,
      "outputs": [
        {
          "output_type": "stream",
          "name": "stdout",
          "text": [
            "Model: \"sequential\"\n",
            "_________________________________________________________________\n",
            " Layer (type)                Output Shape              Param #   \n",
            "=================================================================\n",
            " dense (Dense)               (None, 145)               2030      \n",
            "                                                                 \n",
            " dense_1 (Dense)             (None, 120)               17520     \n",
            "                                                                 \n",
            " dense_2 (Dense)             (None, 70)                8470      \n",
            "                                                                 \n",
            " dense_3 (Dense)             (None, 1)                 71        \n",
            "                                                                 \n",
            "=================================================================\n",
            "Total params: 28,091\n",
            "Trainable params: 28,091\n",
            "Non-trainable params: 0\n",
            "_________________________________________________________________\n",
            "Epoch 1/25\n",
            "219/219 [==============================] - 2s 4ms/step - loss: 0.1887 - accuracy: 0.9327 - val_loss: 0.0290 - val_accuracy: 0.9963\n",
            "Epoch 2/25\n",
            "219/219 [==============================] - 1s 3ms/step - loss: 0.0082 - accuracy: 0.9993 - val_loss: 0.0018 - val_accuracy: 1.0000\n",
            "Epoch 3/25\n",
            "219/219 [==============================] - 0s 2ms/step - loss: 0.0010 - accuracy: 1.0000 - val_loss: 5.3726e-04 - val_accuracy: 1.0000\n",
            "Epoch 4/25\n",
            "219/219 [==============================] - 1s 2ms/step - loss: 3.7901e-04 - accuracy: 1.0000 - val_loss: 2.6474e-04 - val_accuracy: 1.0000\n",
            "Epoch 5/25\n",
            "219/219 [==============================] - 1s 3ms/step - loss: 1.9559e-04 - accuracy: 1.0000 - val_loss: 1.4266e-04 - val_accuracy: 1.0000\n",
            "Epoch 6/25\n",
            "219/219 [==============================] - 1s 3ms/step - loss: 1.1402e-04 - accuracy: 1.0000 - val_loss: 8.7694e-05 - val_accuracy: 1.0000\n",
            "Epoch 7/25\n",
            "219/219 [==============================] - 1s 3ms/step - loss: 7.3036e-05 - accuracy: 1.0000 - val_loss: 5.8553e-05 - val_accuracy: 1.0000\n",
            "Epoch 8/25\n",
            "219/219 [==============================] - 1s 3ms/step - loss: 4.9927e-05 - accuracy: 1.0000 - val_loss: 4.1421e-05 - val_accuracy: 1.0000\n",
            "Epoch 9/25\n",
            "219/219 [==============================] - 1s 3ms/step - loss: 3.5788e-05 - accuracy: 1.0000 - val_loss: 3.0319e-05 - val_accuracy: 1.0000\n",
            "Epoch 10/25\n",
            "219/219 [==============================] - 1s 3ms/step - loss: 2.6599e-05 - accuracy: 1.0000 - val_loss: 2.2883e-05 - val_accuracy: 1.0000\n",
            "Epoch 11/25\n",
            "219/219 [==============================] - 1s 4ms/step - loss: 2.0331e-05 - accuracy: 1.0000 - val_loss: 1.7857e-05 - val_accuracy: 1.0000\n",
            "Epoch 12/25\n",
            "219/219 [==============================] - 1s 3ms/step - loss: 1.5844e-05 - accuracy: 1.0000 - val_loss: 1.3947e-05 - val_accuracy: 1.0000\n",
            "Epoch 13/25\n",
            "219/219 [==============================] - 1s 3ms/step - loss: 1.2583e-05 - accuracy: 1.0000 - val_loss: 1.1177e-05 - val_accuracy: 1.0000\n",
            "Epoch 14/25\n",
            "219/219 [==============================] - 1s 3ms/step - loss: 1.0159e-05 - accuracy: 1.0000 - val_loss: 9.0871e-06 - val_accuracy: 1.0000\n",
            "Epoch 15/25\n",
            "219/219 [==============================] - 1s 4ms/step - loss: 8.2569e-06 - accuracy: 1.0000 - val_loss: 7.4267e-06 - val_accuracy: 1.0000\n",
            "Epoch 16/25\n",
            "219/219 [==============================] - 1s 4ms/step - loss: 6.7785e-06 - accuracy: 1.0000 - val_loss: 6.1138e-06 - val_accuracy: 1.0000\n",
            "Epoch 17/25\n",
            "219/219 [==============================] - 1s 4ms/step - loss: 5.6075e-06 - accuracy: 1.0000 - val_loss: 5.0882e-06 - val_accuracy: 1.0000\n",
            "Epoch 18/25\n",
            "219/219 [==============================] - 1s 3ms/step - loss: 4.6738e-06 - accuracy: 1.0000 - val_loss: 4.2644e-06 - val_accuracy: 1.0000\n",
            "Epoch 19/25\n",
            "219/219 [==============================] - 1s 2ms/step - loss: 3.9304e-06 - accuracy: 1.0000 - val_loss: 3.5865e-06 - val_accuracy: 1.0000\n",
            "Epoch 20/25\n",
            "219/219 [==============================] - 1s 3ms/step - loss: 3.3151e-06 - accuracy: 1.0000 - val_loss: 3.0279e-06 - val_accuracy: 1.0000\n",
            "Epoch 21/25\n",
            "219/219 [==============================] - 1s 3ms/step - loss: 2.8020e-06 - accuracy: 1.0000 - val_loss: 2.5709e-06 - val_accuracy: 1.0000\n",
            "Epoch 22/25\n",
            "219/219 [==============================] - 1s 3ms/step - loss: 2.3847e-06 - accuracy: 1.0000 - val_loss: 2.1964e-06 - val_accuracy: 1.0000\n",
            "Epoch 23/25\n",
            "219/219 [==============================] - 1s 2ms/step - loss: 2.0341e-06 - accuracy: 1.0000 - val_loss: 1.8820e-06 - val_accuracy: 1.0000\n",
            "Epoch 24/25\n",
            "219/219 [==============================] - 1s 3ms/step - loss: 1.7461e-06 - accuracy: 1.0000 - val_loss: 1.6149e-06 - val_accuracy: 1.0000\n",
            "Epoch 25/25\n",
            "219/219 [==============================] - 1s 3ms/step - loss: 1.4995e-06 - accuracy: 1.0000 - val_loss: 1.3891e-06 - val_accuracy: 1.0000\n"
          ]
        }
      ]
    },
    {
      "cell_type": "code",
      "source": [
        "y_pred=model.predict(X_test)\n",
        "y_pred=(y_pred > 1.45)"
      ],
      "metadata": {
        "colab": {
          "base_uri": "https://localhost:8080/"
        },
        "id": "EfchU1-DYKGf",
        "outputId": "bc7a259c-7abe-483b-f67a-abf8a6ad0ced"
      },
      "execution_count": null,
      "outputs": [
        {
          "output_type": "stream",
          "name": "stdout",
          "text": [
            "157/157 [==============================] - 0s 1ms/step\n"
          ]
        }
      ]
    },
    {
      "cell_type": "code",
      "source": [
        "from sklearn.metrics import accuracy_score\n",
        "score=accuracy_score(y_pred,y_test)\n",
        "print(score)"
      ],
      "metadata": {
        "colab": {
          "base_uri": "https://localhost:8080/"
        },
        "id": "zPrauqfAY9Ua",
        "outputId": "ff05d505-a78d-4e28-eff1-7024e7a0ed7e"
      },
      "execution_count": null,
      "outputs": [
        {
          "output_type": "stream",
          "name": "stdout",
          "text": [
            "0.442073778664008\n"
          ]
        }
      ]
    },
    {
      "cell_type": "code",
      "source": [
        "from sklearn.metrics import confusion_matrix,classification_report\n",
        "cm=confusion_matrix(y_test,y_pred)\n",
        "print(cm)"
      ],
      "metadata": {
        "colab": {
          "base_uri": "https://localhost:8080/"
        },
        "id": "tZ68-kvgZRyq",
        "outputId": "b8b5d16d-53fe-4947-e024-3df56580e1db"
      },
      "execution_count": null,
      "outputs": [
        {
          "output_type": "stream",
          "name": "stdout",
          "text": [
            "[[2217    0]\n",
            " [2798    0]]\n"
          ]
        }
      ]
    },
    {
      "cell_type": "code",
      "source": [
        "print(classification_report(y_test,y_pred))"
      ],
      "metadata": {
        "colab": {
          "base_uri": "https://localhost:8080/"
        },
        "id": "mvoLiJHAZjGI",
        "outputId": "cdbee2f4-a0c3-4119-a9ed-5b49b4a53513"
      },
      "execution_count": null,
      "outputs": [
        {
          "output_type": "stream",
          "name": "stdout",
          "text": [
            "              precision    recall  f1-score   support\n",
            "\n",
            "           0       0.44      1.00      0.61      2217\n",
            "           1       0.00      0.00      0.00      2798\n",
            "\n",
            "    accuracy                           0.44      5015\n",
            "   macro avg       0.22      0.50      0.31      5015\n",
            "weighted avg       0.20      0.44      0.27      5015\n",
            "\n"
          ]
        },
        {
          "output_type": "stream",
          "name": "stderr",
          "text": [
            "/usr/local/lib/python3.9/dist-packages/sklearn/metrics/_classification.py:1344: UndefinedMetricWarning: Precision and F-score are ill-defined and being set to 0.0 in labels with no predicted samples. Use `zero_division` parameter to control this behavior.\n",
            "  _warn_prf(average, modifier, msg_start, len(result))\n",
            "/usr/local/lib/python3.9/dist-packages/sklearn/metrics/_classification.py:1344: UndefinedMetricWarning: Precision and F-score are ill-defined and being set to 0.0 in labels with no predicted samples. Use `zero_division` parameter to control this behavior.\n",
            "  _warn_prf(average, modifier, msg_start, len(result))\n",
            "/usr/local/lib/python3.9/dist-packages/sklearn/metrics/_classification.py:1344: UndefinedMetricWarning: Precision and F-score are ill-defined and being set to 0.0 in labels with no predicted samples. Use `zero_division` parameter to control this behavior.\n",
            "  _warn_prf(average, modifier, msg_start, len(result))\n"
          ]
        }
      ]
    },
    {
      "cell_type": "code",
      "source": [
        "model.save('heart.h5')"
      ],
      "metadata": {
        "id": "pt4uLfG4Znli"
      },
      "execution_count": null,
      "outputs": []
    },
    {
      "cell_type": "code",
      "source": [
        "model.predict(X_test)"
      ],
      "metadata": {
        "colab": {
          "base_uri": "https://localhost:8080/"
        },
        "id": "GL3LW0vVZsPI",
        "outputId": "ff2713ac-a95f-4290-cf0e-ad2dc33fd401"
      },
      "execution_count": null,
      "outputs": [
        {
          "output_type": "stream",
          "name": "stdout",
          "text": [
            "157/157 [==============================] - 0s 1ms/step\n"
          ]
        },
        {
          "output_type": "execute_result",
          "data": {
            "text/plain": [
              "array([[6.0812724e-30],\n",
              "       [6.7238147e-06],\n",
              "       [4.9789184e-16],\n",
              "       ...,\n",
              "       [1.0000000e+00],\n",
              "       [4.9789184e-16],\n",
              "       [1.0000000e+00]], dtype=float32)"
            ]
          },
          "metadata": {},
          "execution_count": 19
        }
      ]
    },
    {
      "cell_type": "code",
      "source": [],
      "metadata": {
        "id": "HfEJ-MtWfSNI"
      },
      "execution_count": null,
      "outputs": []
    }
  ]
}