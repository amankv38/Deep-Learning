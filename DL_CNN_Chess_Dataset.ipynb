{
  "nbformat": 4,
  "nbformat_minor": 0,
  "metadata": {
    "colab": {
      "provenance": [],
      "mount_file_id": "1nbzRDjKhzdcCwNOH5WjfIighNj2RqNHO",
      "authorship_tag": "ABX9TyOVueJfsMlX4HdbvLzwnGq3",
      "include_colab_link": true
    },
    "kernelspec": {
      "name": "python3",
      "display_name": "Python 3"
    },
    "language_info": {
      "name": "python"
    }
  },
  "cells": [
    {
      "cell_type": "markdown",
      "metadata": {
        "id": "view-in-github",
        "colab_type": "text"
      },
      "source": [
        "<a href=\"https://colab.research.google.com/github/amankv38/Deep-Learning/blob/main/DL_CNN_Chess_Dataset.ipynb\" target=\"_parent\"><img src=\"https://colab.research.google.com/assets/colab-badge.svg\" alt=\"Open In Colab\"/></a>"
      ]
    },
    {
      "cell_type": "code",
      "execution_count": null,
      "metadata": {
        "id": "FXj-tLwgEl9R"
      },
      "outputs": [],
      "source": [
        "import cv2\n",
        "from glob import glob\n",
        "import pathlib\n",
        "import numpy as np\n",
        "import pandas as pd\n",
        "import tensorflow as tf\n",
        "import matplotlib.pyplot as plt\n"
      ]
    },
    {
      "cell_type": "code",
      "source": [
        "from tensorflow.keras import Sequential\n",
        "from tensorflow.keras.layers import Flatten,Dense,Conv3D,MaxPool3D\n",
        "from tensorflow.keras.optimizers import Adam\n",
        "from tensorflow.keras.losses import SparseCategoricalCrossentropy"
      ],
      "metadata": {
        "id": "Fq85mFwQEwws"
      },
      "execution_count": null,
      "outputs": []
    },
    {
      "cell_type": "code",
      "source": [
        "chess=pathlib.Path(\"/content/drive/MyDrive/DL Datasets/Chess Dataset/Chess Dataset/Chessman-image-dataset/Chess\")"
      ],
      "metadata": {
        "id": "2kFsFvIFEykL"
      },
      "execution_count": null,
      "outputs": []
    },
    {
      "cell_type": "code",
      "source": [
        "zero_list=list(chess.glob(\"Bishop/*.jpg\"))\n",
        "one_list=list(chess.glob(\"King/*.jpg\"))\n",
        "two_list=list(chess.glob(\"Knight/*.jpg\"))\n",
        "three_list=list(chess.glob(\"Pawn/*.jpg\"))\n",
        "four_list=list(chess.glob(\"Queen/*.jpg\"))\n",
        "five_list=list(chess.glob(\"Rook/*.jpg\"))"
      ],
      "metadata": {
        "id": "BdMUPGpYE4jb"
      },
      "execution_count": null,
      "outputs": []
    },
    {
      "cell_type": "code",
      "source": [
        "len(zero_list),len(one_list),len(two_list),len(three_list),len(four_list),len(five_list)"
      ],
      "metadata": {
        "colab": {
          "base_uri": "https://localhost:8080/"
        },
        "id": "rf9Ani_vE5EH",
        "outputId": "4cb2ceb7-67ae-46e3-e9e2-c903988f2c29"
      },
      "execution_count": null,
      "outputs": [
        {
          "output_type": "execute_result",
          "data": {
            "text/plain": [
              "(71, 60, 93, 87, 67, 87)"
            ]
          },
          "metadata": {},
          "execution_count": 5
        }
      ]
    },
    {
      "cell_type": "code",
      "source": [],
      "metadata": {
        "id": "W5sHrN21HOEr"
      },
      "execution_count": null,
      "outputs": []
    },
    {
      "cell_type": "code",
      "source": [
        "chess_dict={\"Bishop\":zero_list,\n",
        "               \"King\":one_list,\n",
        "               \"Knight\":two_list,\n",
        "               \"Pawn\":three_list,\n",
        "               \"Queen\":four_list,\n",
        "               \"Rook\":five_list}\n",
        "\n",
        "chess_class={\"Bishop\":0,\n",
        "               \"King\":1,\n",
        "               \"Knight\":2,\n",
        "               \"Pawn\":3,\n",
        "               \"Queen\":4,\n",
        "               \"Rook\":5}"
      ],
      "metadata": {
        "id": "RrB9PG2PE8nq"
      },
      "execution_count": null,
      "outputs": []
    },
    {
      "cell_type": "code",
      "source": [
        "x=[]\n",
        "y=[]"
      ],
      "metadata": {
        "id": "Qr8MlADtFGBY"
      },
      "execution_count": null,
      "outputs": []
    },
    {
      "cell_type": "code",
      "source": [
        "for i in chess_dict:\n",
        "  chess_name=i\n",
        "  chess_list=chess_dict[chess_name]\n",
        "  for path in chess_list:\n",
        "    img=cv2.imread(str(path))\n",
        "    img=cv2.resize(img,(224,224))\n",
        "    img=img/255\n",
        "    x.append(img)\n",
        "    cls=chess_class[chess_name]\n",
        "    y.append(cls)"
      ],
      "metadata": {
        "id": "_xArHTFgFIbj"
      },
      "execution_count": null,
      "outputs": []
    },
    {
      "cell_type": "code",
      "source": [
        "len(x)"
      ],
      "metadata": {
        "colab": {
          "base_uri": "https://localhost:8080/"
        },
        "id": "g5Vq6Gj0FKNc",
        "outputId": "0bdeeeac-ad75-410e-82f8-e78e79b3d15c"
      },
      "execution_count": null,
      "outputs": [
        {
          "output_type": "execute_result",
          "data": {
            "text/plain": [
              "465"
            ]
          },
          "metadata": {},
          "execution_count": 9
        }
      ]
    },
    {
      "cell_type": "code",
      "source": [
        "x=np.array(x)\n",
        "y=np.array(y)"
      ],
      "metadata": {
        "id": "uv9USk6-FMOR"
      },
      "execution_count": null,
      "outputs": []
    },
    {
      "cell_type": "code",
      "source": [
        "from sklearn.model_selection import train_test_split\n",
        "x_train,x_test,y_train,y_test=train_test_split(x,y,train_size=0.75,random_state=1)"
      ],
      "metadata": {
        "id": "nHPJ6sy2FN5O"
      },
      "execution_count": null,
      "outputs": []
    },
    {
      "cell_type": "code",
      "source": [
        "len(x_train),len(y_train),len(x_test),len(y_test)"
      ],
      "metadata": {
        "colab": {
          "base_uri": "https://localhost:8080/"
        },
        "id": "LfnRmb_GFPlF",
        "outputId": "ea138d3b-bec3-4c78-b361-0700d03535ae"
      },
      "execution_count": null,
      "outputs": [
        {
          "output_type": "execute_result",
          "data": {
            "text/plain": [
              "(348, 348, 117, 117)"
            ]
          },
          "metadata": {},
          "execution_count": 12
        }
      ]
    },
    {
      "cell_type": "code",
      "source": [
        "x_train.shape"
      ],
      "metadata": {
        "colab": {
          "base_uri": "https://localhost:8080/"
        },
        "id": "Ky7J1DUIFRYD",
        "outputId": "8630df2c-54d2-45ad-9cd6-116ee906d3f7"
      },
      "execution_count": null,
      "outputs": [
        {
          "output_type": "execute_result",
          "data": {
            "text/plain": [
              "(348, 224, 224, 3)"
            ]
          },
          "metadata": {},
          "execution_count": 13
        }
      ]
    },
    {
      "cell_type": "code",
      "source": [
        "x_train.shape,x_test.shape"
      ],
      "metadata": {
        "colab": {
          "base_uri": "https://localhost:8080/"
        },
        "id": "lhfH9Yl5FTcJ",
        "outputId": "0e733215-9e42-4608-c54c-30bf2be218df"
      },
      "execution_count": null,
      "outputs": [
        {
          "output_type": "execute_result",
          "data": {
            "text/plain": [
              "((348, 224, 224, 3), (117, 224, 224, 3))"
            ]
          },
          "metadata": {},
          "execution_count": 14
        }
      ]
    },
    {
      "cell_type": "code",
      "source": [],
      "metadata": {
        "id": "SxiR2HkBKDxt"
      },
      "execution_count": null,
      "outputs": []
    },
    {
      "cell_type": "code",
      "source": [
        "from tensorflow.keras.layers import MaxPooling2D\n",
        "from keras.layers.core import Dropout\n",
        "from tensorflow.keras import datasets, layers, models\n",
        "model=models.Sequential()\n",
        "model.add(layers.Conv2D(32,(3,3), activation='relu', input_shape=(224,224,3)))\n",
        "model.add(layers.MaxPooling2D((2,2)))\n",
        "model.add(layers.Conv2D(64, (3,3), activation='relu'))\n",
        "model.add(layers.MaxPooling2D((2,2)))\n",
        "model.add(layers.Conv2D(64, (3,3), activation='relu'))\n",
        "model.add(layers.Flatten())\n",
        "model.add(layers.Dense(64, activation='relu'))\n",
        "model.add(layers.Dense(11, activation='softmax'))"
      ],
      "metadata": {
        "id": "HfFmx3VmFVhA"
      },
      "execution_count": null,
      "outputs": []
    },
    {
      "cell_type": "code",
      "source": [
        "model.compile(optimizer='adam',\n",
        "              loss=tf.keras.losses.SparseCategoricalCrossentropy(from_logits=True),\n",
        "              metrics=['accuracy'])\n",
        "history=model.fit(x_train,y_train, epochs=15,\n",
        "                  validation_data=(x_test,y_test))"
      ],
      "metadata": {
        "colab": {
          "base_uri": "https://localhost:8080/"
        },
        "id": "KQTG5ymDFXY3",
        "outputId": "e9e654a6-74bf-458b-ebc4-4b0bf05ed145"
      },
      "execution_count": null,
      "outputs": [
        {
          "output_type": "stream",
          "name": "stdout",
          "text": [
            "Epoch 1/15\n"
          ]
        },
        {
          "output_type": "stream",
          "name": "stderr",
          "text": [
            "/usr/local/lib/python3.9/dist-packages/keras/backend.py:5612: UserWarning: \"`sparse_categorical_crossentropy` received `from_logits=True`, but the `output` argument was produced by a Softmax activation and thus does not represent logits. Was this intended?\n",
            "  output, from_logits = _get_logits(\n"
          ]
        },
        {
          "output_type": "stream",
          "name": "stdout",
          "text": [
            "11/11 [==============================] - 47s 4s/step - loss: 4.5913 - accuracy: 0.1897 - val_loss: 2.0564 - val_accuracy: 0.2222\n",
            "Epoch 2/15\n",
            "11/11 [==============================] - 45s 4s/step - loss: 1.9066 - accuracy: 0.2184 - val_loss: 1.9773 - val_accuracy: 0.2222\n",
            "Epoch 3/15\n",
            "11/11 [==============================] - 45s 4s/step - loss: 1.6701 - accuracy: 0.3305 - val_loss: 1.7824 - val_accuracy: 0.2137\n",
            "Epoch 4/15\n",
            "11/11 [==============================] - 45s 4s/step - loss: 1.3546 - accuracy: 0.4511 - val_loss: 1.8260 - val_accuracy: 0.2906\n",
            "Epoch 5/15\n",
            "11/11 [==============================] - 45s 4s/step - loss: 1.0432 - accuracy: 0.6379 - val_loss: 2.7788 - val_accuracy: 0.2222\n",
            "Epoch 6/15\n",
            "11/11 [==============================] - 43s 4s/step - loss: 0.8469 - accuracy: 0.6839 - val_loss: 2.5454 - val_accuracy: 0.3333\n",
            "Epoch 7/15\n",
            "11/11 [==============================] - 43s 4s/step - loss: 0.8056 - accuracy: 0.7615 - val_loss: 2.5851 - val_accuracy: 0.3419\n",
            "Epoch 8/15\n",
            "11/11 [==============================] - 42s 4s/step - loss: 0.5746 - accuracy: 0.8333 - val_loss: 2.8850 - val_accuracy: 0.3077\n",
            "Epoch 9/15\n",
            "11/11 [==============================] - 43s 4s/step - loss: 0.4112 - accuracy: 0.8822 - val_loss: 4.9955 - val_accuracy: 0.3248\n",
            "Epoch 10/15\n",
            "11/11 [==============================] - 49s 5s/step - loss: 0.4010 - accuracy: 0.8908 - val_loss: 4.1356 - val_accuracy: 0.3248\n",
            "Epoch 11/15\n",
            "11/11 [==============================] - 42s 4s/step - loss: 0.3393 - accuracy: 0.9080 - val_loss: 4.1645 - val_accuracy: 0.3333\n",
            "Epoch 12/15\n",
            "11/11 [==============================] - 40s 4s/step - loss: 0.3695 - accuracy: 0.9023 - val_loss: 3.9967 - val_accuracy: 0.3077\n",
            "Epoch 13/15\n",
            "11/11 [==============================] - 47s 4s/step - loss: 0.2141 - accuracy: 0.9195 - val_loss: 4.6564 - val_accuracy: 0.3248\n",
            "Epoch 14/15\n",
            "11/11 [==============================] - 46s 4s/step - loss: 0.1767 - accuracy: 0.9454 - val_loss: 5.7337 - val_accuracy: 0.3248\n",
            "Epoch 15/15\n",
            "11/11 [==============================] - 45s 4s/step - loss: 0.1554 - accuracy: 0.9540 - val_loss: 6.8179 - val_accuracy: 0.3248\n"
          ]
        }
      ]
    },
    {
      "cell_type": "code",
      "source": [
        "from tensorflow.keras.preprocessing import image\n",
        "def testing_image(image_directory):\n",
        "  test_image=image.load_img(image_directory, target_size=(224,224))\n",
        "  test_image=image.img_to_array(test_image)\n",
        "  test_image=np.expand_dims(test_image, axis=0)\n",
        "  test_image=test_image/255\n",
        "  result=model.predict(x=test_image)\n",
        "  print(result)\n",
        "  if np.argmax(result)== 0:\n",
        "    prediction= 'Bishop'\n",
        "  elif np.argmax(result)== 1:\n",
        "    prediction= 'King'\n",
        "  elif np.argmax(result)== 2:\n",
        "    prediction= 'Knight'\n",
        "  elif np.argmax(result)== 3:\n",
        "    prediction= 'Pawn'\n",
        "  elif np.argmax(result)== 4:\n",
        "    prediction= 'Queen'\n",
        "  elif np.argmax(result)== 5:\n",
        "    prediction= 'Rook'\n",
        "\n",
        "  return prediction"
      ],
      "metadata": {
        "id": "XushXPQNFZXG"
      },
      "execution_count": null,
      "outputs": []
    },
    {
      "cell_type": "code",
      "source": [
        "print(testing_image('/content/drive/MyDrive/DL Datasets/Chess Dataset/Chess Dataset/Chessman-image-dataset/Chess/Rook/00000179.png'))\n"
      ],
      "metadata": {
        "colab": {
          "base_uri": "https://localhost:8080/"
        },
        "id": "AGsx0VBcFcYk",
        "outputId": "d4acbdf4-c695-46d8-c3ff-7ec342cd8206"
      },
      "execution_count": null,
      "outputs": [
        {
          "output_type": "stream",
          "name": "stdout",
          "text": [
            "1/1 [==============================] - 0s 58ms/step\n",
            "[[9.8093811e-10 3.5720218e-16 5.5206500e-16 2.0899149e-19 1.2629016e-11\n",
            "  1.0000000e+00 0.0000000e+00 0.0000000e+00 0.0000000e+00 0.0000000e+00\n",
            "  0.0000000e+00]]\n",
            "Rook\n"
          ]
        }
      ]
    },
    {
      "cell_type": "code",
      "source": [],
      "metadata": {
        "id": "jFz9ZHv8LNhO"
      },
      "execution_count": null,
      "outputs": []
    }
  ]
}