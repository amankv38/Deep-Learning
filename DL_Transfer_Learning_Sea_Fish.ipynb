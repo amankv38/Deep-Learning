{
  "nbformat": 4,
  "nbformat_minor": 0,
  "metadata": {
    "colab": {
      "provenance": []
    },
    "kernelspec": {
      "name": "python3",
      "display_name": "Python 3"
    },
    "language_info": {
      "name": "python"
    }
  },
  "cells": [
    {
      "cell_type": "code",
      "execution_count": null,
      "metadata": {
        "id": "Pgd2B3yiMAAc"
      },
      "outputs": [],
      "source": [
        "import cv2\n",
        "from glob import glob\n",
        "import pathlib\n",
        "import numpy as np\n",
        "import pandas as pd\n",
        "import tensorflow as tf\n",
        "import matplotlib.pyplot as plt\n"
      ]
    },
    {
      "cell_type": "code",
      "source": [
        "from tensorflow.keras import Sequential\n",
        "from tensorflow.keras.layers import Flatten,Dense,Conv3D,MaxPool3D\n",
        "from tensorflow.keras.optimizers import Adam\n",
        "from tensorflow.keras.losses import SparseCategoricalCrossentropy"
      ],
      "metadata": {
        "id": "2k5pVSzqMJIq"
      },
      "execution_count": null,
      "outputs": []
    },
    {
      "cell_type": "code",
      "source": [
        "sea_fish=pathlib.Path(\"/content/drive/MyDrive/DL Datasets/Sea Fish Dataset/Sea Fishes Dataset Edited\")"
      ],
      "metadata": {
        "id": "udVivm1uMLDd"
      },
      "execution_count": null,
      "outputs": []
    },
    {
      "cell_type": "code",
      "source": [
        "zero_list=list(sea_fish.glob(\"Crabs/*.jpg\"))\n",
        "one_list=list(sea_fish.glob(\"Dolphin/*.jpg\"))\n",
        "two_list=list(sea_fish.glob(\"Eel/*.jpg\"))\n",
        "three_list=list(sea_fish.glob(\"Jelly Fish/*.jpg\"))\n",
        "four_list=list(sea_fish.glob(\"Lobster/*.jpg\"))\n",
        "five_list=list(sea_fish.glob(\"Octopus/*.jpg\"))\n",
        "six_list=list(sea_fish.glob(\"Penguin/*.jpg\"))\n",
        "seven_list=list(sea_fish.glob(\"Seahorse/*.jpg\"))\n",
        "eight_list=list(sea_fish.glob(\"Starfish/*.jpg\"))\n",
        "nine_list=list(sea_fish.glob(\"Turtle_Tortoise/*.jpg\"))\n",
        "ten_list=list(sea_fish.glob(\"Whale/*.jpg\"))\n",
        "\n"
      ],
      "metadata": {
        "id": "gaVqVF9cMORO"
      },
      "execution_count": null,
      "outputs": []
    },
    {
      "cell_type": "code",
      "source": [
        "len(zero_list),len(one_list),len(two_list),len(three_list),len(four_list),len(five_list),len(six_list),len(seven_list),len(eight_list),len(nine_list),len(ten_list)"
      ],
      "metadata": {
        "colab": {
          "base_uri": "https://localhost:8080/"
        },
        "id": "BIOR0FvbMOnz",
        "outputId": "8677184b-1838-4394-fa13-c618ab89e5e8"
      },
      "execution_count": null,
      "outputs": [
        {
          "output_type": "execute_result",
          "data": {
            "text/plain": [
              "(200, 223, 195, 216, 217, 210, 202, 206, 223, 212, 215)"
            ]
          },
          "metadata": {},
          "execution_count": 5
        }
      ]
    },
    {
      "cell_type": "code",
      "source": [
        "fish_dict={\"Crabs\":zero_list,\n",
        "               \"Dolphin\":one_list,\n",
        "               \"Eel\":two_list,\n",
        "               \"Jelly Fish\":three_list,\n",
        "               \"Lobster\":four_list,\n",
        "               \"Octopus\":five_list,\n",
        "               \"Penguin\":six_list,\n",
        "               \"Seahorse\":seven_list,\n",
        "               \"Starfish\":eight_list,\n",
        "               \"Turtle_Tortoise\":nine_list,\n",
        "               \"Whale\":ten_list}\n",
        "\n",
        "fish_class={\"Crabs\":0,\n",
        "               \"Dolphin\":1,\n",
        "               \"Eel\":2,\n",
        "               \"Jelly Fish\":3,\n",
        "               \"Lobster\":4,\n",
        "               \"Octopus\":5,\n",
        "               \"Penguin\":6,\n",
        "               \"Seahorse\":7,\n",
        "               \"Starfish\":8,\n",
        "               \"Turtle_Tortoise\":9,\n",
        "               \"Whale\":10}"
      ],
      "metadata": {
        "id": "YU-z0s8vMQ-F"
      },
      "execution_count": null,
      "outputs": []
    },
    {
      "cell_type": "code",
      "source": [
        "x=[]\n",
        "y=[]"
      ],
      "metadata": {
        "id": "Ajon_PviMTCM"
      },
      "execution_count": null,
      "outputs": []
    },
    {
      "cell_type": "code",
      "source": [
        "for i in fish_dict:\n",
        "  fish_name=i\n",
        "  sea_fish_list=fish_dict[fish_name]\n",
        "  for path in sea_fish_list:\n",
        "    img=cv2.imread(str(path))\n",
        "    img=cv2.resize(img,(224,224))\n",
        "    img=img/255\n",
        "    x.append(img)\n",
        "    cls=fish_class[fish_name]\n",
        "    y.append(cls)"
      ],
      "metadata": {
        "id": "fEEOjF_KMX_Z"
      },
      "execution_count": null,
      "outputs": []
    },
    {
      "cell_type": "code",
      "source": [
        "len(x)"
      ],
      "metadata": {
        "colab": {
          "base_uri": "https://localhost:8080/"
        },
        "id": "tOk69PCFMZ3l",
        "outputId": "1f304c33-c47e-4c84-cef8-dca268a6d758"
      },
      "execution_count": null,
      "outputs": [
        {
          "output_type": "execute_result",
          "data": {
            "text/plain": [
              "2319"
            ]
          },
          "metadata": {},
          "execution_count": 9
        }
      ]
    },
    {
      "cell_type": "code",
      "source": [
        "x=np.array(x)\n",
        "y=np.array(y)"
      ],
      "metadata": {
        "id": "O1v1benrMbwa"
      },
      "execution_count": null,
      "outputs": []
    },
    {
      "cell_type": "code",
      "source": [
        "from sklearn.model_selection import train_test_split\n",
        "x_train,x_test,y_train,y_test=train_test_split(x,y,train_size=0.75,random_state=1)"
      ],
      "metadata": {
        "id": "VRI2hnsFMdl8"
      },
      "execution_count": null,
      "outputs": []
    },
    {
      "cell_type": "code",
      "source": [
        "len(x_train),len(y_train),len(x_test),len(y_test)"
      ],
      "metadata": {
        "colab": {
          "base_uri": "https://localhost:8080/"
        },
        "id": "LWIduKclMfhc",
        "outputId": "880fabc1-a0a8-491c-d002-cdead35e4395"
      },
      "execution_count": null,
      "outputs": [
        {
          "output_type": "execute_result",
          "data": {
            "text/plain": [
              "(1739, 1739, 580, 580)"
            ]
          },
          "metadata": {},
          "execution_count": 12
        }
      ]
    },
    {
      "cell_type": "code",
      "source": [
        "x_train.shape"
      ],
      "metadata": {
        "colab": {
          "base_uri": "https://localhost:8080/"
        },
        "id": "yHKOP7n_Mhkq",
        "outputId": "e1699565-ea3a-4159-cb95-247733ebd994"
      },
      "execution_count": null,
      "outputs": [
        {
          "output_type": "execute_result",
          "data": {
            "text/plain": [
              "(1739, 224, 224, 3)"
            ]
          },
          "metadata": {},
          "execution_count": 13
        }
      ]
    },
    {
      "cell_type": "code",
      "source": [
        "x_train.shape,x_test.shape"
      ],
      "metadata": {
        "colab": {
          "base_uri": "https://localhost:8080/"
        },
        "id": "zc2-nhhVMjWl",
        "outputId": "9408fb48-8016-448a-cfed-4a8e55364936"
      },
      "execution_count": null,
      "outputs": [
        {
          "output_type": "execute_result",
          "data": {
            "text/plain": [
              "((1739, 224, 224, 3), (580, 224, 224, 3))"
            ]
          },
          "metadata": {},
          "execution_count": 14
        }
      ]
    },
    {
      "cell_type": "markdown",
      "source": [
        "Changes From CNN to Transfer Learning starts from here"
      ],
      "metadata": {
        "id": "w8RwI1eUOKbx"
      }
    },
    {
      "cell_type": "code",
      "source": [
        "from tensorflow.keras.applications.mobilenet_v2 import MobileNetV2\n"
      ],
      "metadata": {
        "id": "n6044jemNHk9"
      },
      "execution_count": null,
      "outputs": []
    },
    {
      "cell_type": "code",
      "source": [
        "base_model=tf.keras.applications.MobileNetV2(input_shape=(224,224,3),\n",
        "                                              include_top=False,\n",
        "                                              weights='imagenet')"
      ],
      "metadata": {
        "id": "0CnAq8HENXIp"
      },
      "execution_count": null,
      "outputs": []
    },
    {
      "cell_type": "code",
      "source": [
        "print(\"[INFO] summary for base model...\")\n",
        "print(base_model.summary())"
      ],
      "metadata": {
        "colab": {
          "base_uri": "https://localhost:8080/"
        },
        "id": "C7y60NWcNsc8",
        "outputId": "d6bbb806-c767-450f-abf6-0c6f2d656283"
      },
      "execution_count": null,
      "outputs": [
        {
          "output_type": "stream",
          "name": "stdout",
          "text": [
            "[INFO] summary for base model...\n",
            "Model: \"mobilenetv2_1.00_224\"\n",
            "__________________________________________________________________________________________________\n",
            " Layer (type)                   Output Shape         Param #     Connected to                     \n",
            "==================================================================================================\n",
            " input_1 (InputLayer)           [(None, 224, 224, 3  0           []                               \n",
            "                                )]                                                                \n",
            "                                                                                                  \n",
            " Conv1 (Conv2D)                 (None, 112, 112, 32  864         ['input_1[0][0]']                \n",
            "                                )                                                                 \n",
            "                                                                                                  \n",
            " bn_Conv1 (BatchNormalization)  (None, 112, 112, 32  128         ['Conv1[0][0]']                  \n",
            "                                )                                                                 \n",
            "                                                                                                  \n",
            " Conv1_relu (ReLU)              (None, 112, 112, 32  0           ['bn_Conv1[0][0]']               \n",
            "                                )                                                                 \n",
            "                                                                                                  \n",
            " expanded_conv_depthwise (Depth  (None, 112, 112, 32  288        ['Conv1_relu[0][0]']             \n",
            " wiseConv2D)                    )                                                                 \n",
            "                                                                                                  \n",
            " expanded_conv_depthwise_BN (Ba  (None, 112, 112, 32  128        ['expanded_conv_depthwise[0][0]']\n",
            " tchNormalization)              )                                                                 \n",
            "                                                                                                  \n",
            " expanded_conv_depthwise_relu (  (None, 112, 112, 32  0          ['expanded_conv_depthwise_BN[0][0\n",
            " ReLU)                          )                                ]']                              \n",
            "                                                                                                  \n",
            " expanded_conv_project (Conv2D)  (None, 112, 112, 16  512        ['expanded_conv_depthwise_relu[0]\n",
            "                                )                                [0]']                            \n",
            "                                                                                                  \n",
            " expanded_conv_project_BN (Batc  (None, 112, 112, 16  64         ['expanded_conv_project[0][0]']  \n",
            " hNormalization)                )                                                                 \n",
            "                                                                                                  \n",
            " block_1_expand (Conv2D)        (None, 112, 112, 96  1536        ['expanded_conv_project_BN[0][0]'\n",
            "                                )                                ]                                \n",
            "                                                                                                  \n",
            " block_1_expand_BN (BatchNormal  (None, 112, 112, 96  384        ['block_1_expand[0][0]']         \n",
            " ization)                       )                                                                 \n",
            "                                                                                                  \n",
            " block_1_expand_relu (ReLU)     (None, 112, 112, 96  0           ['block_1_expand_BN[0][0]']      \n",
            "                                )                                                                 \n",
            "                                                                                                  \n",
            " block_1_pad (ZeroPadding2D)    (None, 113, 113, 96  0           ['block_1_expand_relu[0][0]']    \n",
            "                                )                                                                 \n",
            "                                                                                                  \n",
            " block_1_depthwise (DepthwiseCo  (None, 56, 56, 96)  864         ['block_1_pad[0][0]']            \n",
            " nv2D)                                                                                            \n",
            "                                                                                                  \n",
            " block_1_depthwise_BN (BatchNor  (None, 56, 56, 96)  384         ['block_1_depthwise[0][0]']      \n",
            " malization)                                                                                      \n",
            "                                                                                                  \n",
            " block_1_depthwise_relu (ReLU)  (None, 56, 56, 96)   0           ['block_1_depthwise_BN[0][0]']   \n",
            "                                                                                                  \n",
            " block_1_project (Conv2D)       (None, 56, 56, 24)   2304        ['block_1_depthwise_relu[0][0]'] \n",
            "                                                                                                  \n",
            " block_1_project_BN (BatchNorma  (None, 56, 56, 24)  96          ['block_1_project[0][0]']        \n",
            " lization)                                                                                        \n",
            "                                                                                                  \n",
            " block_2_expand (Conv2D)        (None, 56, 56, 144)  3456        ['block_1_project_BN[0][0]']     \n",
            "                                                                                                  \n",
            " block_2_expand_BN (BatchNormal  (None, 56, 56, 144)  576        ['block_2_expand[0][0]']         \n",
            " ization)                                                                                         \n",
            "                                                                                                  \n",
            " block_2_expand_relu (ReLU)     (None, 56, 56, 144)  0           ['block_2_expand_BN[0][0]']      \n",
            "                                                                                                  \n",
            " block_2_depthwise (DepthwiseCo  (None, 56, 56, 144)  1296       ['block_2_expand_relu[0][0]']    \n",
            " nv2D)                                                                                            \n",
            "                                                                                                  \n",
            " block_2_depthwise_BN (BatchNor  (None, 56, 56, 144)  576        ['block_2_depthwise[0][0]']      \n",
            " malization)                                                                                      \n",
            "                                                                                                  \n",
            " block_2_depthwise_relu (ReLU)  (None, 56, 56, 144)  0           ['block_2_depthwise_BN[0][0]']   \n",
            "                                                                                                  \n",
            " block_2_project (Conv2D)       (None, 56, 56, 24)   3456        ['block_2_depthwise_relu[0][0]'] \n",
            "                                                                                                  \n",
            " block_2_project_BN (BatchNorma  (None, 56, 56, 24)  96          ['block_2_project[0][0]']        \n",
            " lization)                                                                                        \n",
            "                                                                                                  \n",
            " block_2_add (Add)              (None, 56, 56, 24)   0           ['block_1_project_BN[0][0]',     \n",
            "                                                                  'block_2_project_BN[0][0]']     \n",
            "                                                                                                  \n",
            " block_3_expand (Conv2D)        (None, 56, 56, 144)  3456        ['block_2_add[0][0]']            \n",
            "                                                                                                  \n",
            " block_3_expand_BN (BatchNormal  (None, 56, 56, 144)  576        ['block_3_expand[0][0]']         \n",
            " ization)                                                                                         \n",
            "                                                                                                  \n",
            " block_3_expand_relu (ReLU)     (None, 56, 56, 144)  0           ['block_3_expand_BN[0][0]']      \n",
            "                                                                                                  \n",
            " block_3_pad (ZeroPadding2D)    (None, 57, 57, 144)  0           ['block_3_expand_relu[0][0]']    \n",
            "                                                                                                  \n",
            " block_3_depthwise (DepthwiseCo  (None, 28, 28, 144)  1296       ['block_3_pad[0][0]']            \n",
            " nv2D)                                                                                            \n",
            "                                                                                                  \n",
            " block_3_depthwise_BN (BatchNor  (None, 28, 28, 144)  576        ['block_3_depthwise[0][0]']      \n",
            " malization)                                                                                      \n",
            "                                                                                                  \n",
            " block_3_depthwise_relu (ReLU)  (None, 28, 28, 144)  0           ['block_3_depthwise_BN[0][0]']   \n",
            "                                                                                                  \n",
            " block_3_project (Conv2D)       (None, 28, 28, 32)   4608        ['block_3_depthwise_relu[0][0]'] \n",
            "                                                                                                  \n",
            " block_3_project_BN (BatchNorma  (None, 28, 28, 32)  128         ['block_3_project[0][0]']        \n",
            " lization)                                                                                        \n",
            "                                                                                                  \n",
            " block_4_expand (Conv2D)        (None, 28, 28, 192)  6144        ['block_3_project_BN[0][0]']     \n",
            "                                                                                                  \n",
            " block_4_expand_BN (BatchNormal  (None, 28, 28, 192)  768        ['block_4_expand[0][0]']         \n",
            " ization)                                                                                         \n",
            "                                                                                                  \n",
            " block_4_expand_relu (ReLU)     (None, 28, 28, 192)  0           ['block_4_expand_BN[0][0]']      \n",
            "                                                                                                  \n",
            " block_4_depthwise (DepthwiseCo  (None, 28, 28, 192)  1728       ['block_4_expand_relu[0][0]']    \n",
            " nv2D)                                                                                            \n",
            "                                                                                                  \n",
            " block_4_depthwise_BN (BatchNor  (None, 28, 28, 192)  768        ['block_4_depthwise[0][0]']      \n",
            " malization)                                                                                      \n",
            "                                                                                                  \n",
            " block_4_depthwise_relu (ReLU)  (None, 28, 28, 192)  0           ['block_4_depthwise_BN[0][0]']   \n",
            "                                                                                                  \n",
            " block_4_project (Conv2D)       (None, 28, 28, 32)   6144        ['block_4_depthwise_relu[0][0]'] \n",
            "                                                                                                  \n",
            " block_4_project_BN (BatchNorma  (None, 28, 28, 32)  128         ['block_4_project[0][0]']        \n",
            " lization)                                                                                        \n",
            "                                                                                                  \n",
            " block_4_add (Add)              (None, 28, 28, 32)   0           ['block_3_project_BN[0][0]',     \n",
            "                                                                  'block_4_project_BN[0][0]']     \n",
            "                                                                                                  \n",
            " block_5_expand (Conv2D)        (None, 28, 28, 192)  6144        ['block_4_add[0][0]']            \n",
            "                                                                                                  \n",
            " block_5_expand_BN (BatchNormal  (None, 28, 28, 192)  768        ['block_5_expand[0][0]']         \n",
            " ization)                                                                                         \n",
            "                                                                                                  \n",
            " block_5_expand_relu (ReLU)     (None, 28, 28, 192)  0           ['block_5_expand_BN[0][0]']      \n",
            "                                                                                                  \n",
            " block_5_depthwise (DepthwiseCo  (None, 28, 28, 192)  1728       ['block_5_expand_relu[0][0]']    \n",
            " nv2D)                                                                                            \n",
            "                                                                                                  \n",
            " block_5_depthwise_BN (BatchNor  (None, 28, 28, 192)  768        ['block_5_depthwise[0][0]']      \n",
            " malization)                                                                                      \n",
            "                                                                                                  \n",
            " block_5_depthwise_relu (ReLU)  (None, 28, 28, 192)  0           ['block_5_depthwise_BN[0][0]']   \n",
            "                                                                                                  \n",
            " block_5_project (Conv2D)       (None, 28, 28, 32)   6144        ['block_5_depthwise_relu[0][0]'] \n",
            "                                                                                                  \n",
            " block_5_project_BN (BatchNorma  (None, 28, 28, 32)  128         ['block_5_project[0][0]']        \n",
            " lization)                                                                                        \n",
            "                                                                                                  \n",
            " block_5_add (Add)              (None, 28, 28, 32)   0           ['block_4_add[0][0]',            \n",
            "                                                                  'block_5_project_BN[0][0]']     \n",
            "                                                                                                  \n",
            " block_6_expand (Conv2D)        (None, 28, 28, 192)  6144        ['block_5_add[0][0]']            \n",
            "                                                                                                  \n",
            " block_6_expand_BN (BatchNormal  (None, 28, 28, 192)  768        ['block_6_expand[0][0]']         \n",
            " ization)                                                                                         \n",
            "                                                                                                  \n",
            " block_6_expand_relu (ReLU)     (None, 28, 28, 192)  0           ['block_6_expand_BN[0][0]']      \n",
            "                                                                                                  \n",
            " block_6_pad (ZeroPadding2D)    (None, 29, 29, 192)  0           ['block_6_expand_relu[0][0]']    \n",
            "                                                                                                  \n",
            " block_6_depthwise (DepthwiseCo  (None, 14, 14, 192)  1728       ['block_6_pad[0][0]']            \n",
            " nv2D)                                                                                            \n",
            "                                                                                                  \n",
            " block_6_depthwise_BN (BatchNor  (None, 14, 14, 192)  768        ['block_6_depthwise[0][0]']      \n",
            " malization)                                                                                      \n",
            "                                                                                                  \n",
            " block_6_depthwise_relu (ReLU)  (None, 14, 14, 192)  0           ['block_6_depthwise_BN[0][0]']   \n",
            "                                                                                                  \n",
            " block_6_project (Conv2D)       (None, 14, 14, 64)   12288       ['block_6_depthwise_relu[0][0]'] \n",
            "                                                                                                  \n",
            " block_6_project_BN (BatchNorma  (None, 14, 14, 64)  256         ['block_6_project[0][0]']        \n",
            " lization)                                                                                        \n",
            "                                                                                                  \n",
            " block_7_expand (Conv2D)        (None, 14, 14, 384)  24576       ['block_6_project_BN[0][0]']     \n",
            "                                                                                                  \n",
            " block_7_expand_BN (BatchNormal  (None, 14, 14, 384)  1536       ['block_7_expand[0][0]']         \n",
            " ization)                                                                                         \n",
            "                                                                                                  \n",
            " block_7_expand_relu (ReLU)     (None, 14, 14, 384)  0           ['block_7_expand_BN[0][0]']      \n",
            "                                                                                                  \n",
            " block_7_depthwise (DepthwiseCo  (None, 14, 14, 384)  3456       ['block_7_expand_relu[0][0]']    \n",
            " nv2D)                                                                                            \n",
            "                                                                                                  \n",
            " block_7_depthwise_BN (BatchNor  (None, 14, 14, 384)  1536       ['block_7_depthwise[0][0]']      \n",
            " malization)                                                                                      \n",
            "                                                                                                  \n",
            " block_7_depthwise_relu (ReLU)  (None, 14, 14, 384)  0           ['block_7_depthwise_BN[0][0]']   \n",
            "                                                                                                  \n",
            " block_7_project (Conv2D)       (None, 14, 14, 64)   24576       ['block_7_depthwise_relu[0][0]'] \n",
            "                                                                                                  \n",
            " block_7_project_BN (BatchNorma  (None, 14, 14, 64)  256         ['block_7_project[0][0]']        \n",
            " lization)                                                                                        \n",
            "                                                                                                  \n",
            " block_7_add (Add)              (None, 14, 14, 64)   0           ['block_6_project_BN[0][0]',     \n",
            "                                                                  'block_7_project_BN[0][0]']     \n",
            "                                                                                                  \n",
            " block_8_expand (Conv2D)        (None, 14, 14, 384)  24576       ['block_7_add[0][0]']            \n",
            "                                                                                                  \n",
            " block_8_expand_BN (BatchNormal  (None, 14, 14, 384)  1536       ['block_8_expand[0][0]']         \n",
            " ization)                                                                                         \n",
            "                                                                                                  \n",
            " block_8_expand_relu (ReLU)     (None, 14, 14, 384)  0           ['block_8_expand_BN[0][0]']      \n",
            "                                                                                                  \n",
            " block_8_depthwise (DepthwiseCo  (None, 14, 14, 384)  3456       ['block_8_expand_relu[0][0]']    \n",
            " nv2D)                                                                                            \n",
            "                                                                                                  \n",
            " block_8_depthwise_BN (BatchNor  (None, 14, 14, 384)  1536       ['block_8_depthwise[0][0]']      \n",
            " malization)                                                                                      \n",
            "                                                                                                  \n",
            " block_8_depthwise_relu (ReLU)  (None, 14, 14, 384)  0           ['block_8_depthwise_BN[0][0]']   \n",
            "                                                                                                  \n",
            " block_8_project (Conv2D)       (None, 14, 14, 64)   24576       ['block_8_depthwise_relu[0][0]'] \n",
            "                                                                                                  \n",
            " block_8_project_BN (BatchNorma  (None, 14, 14, 64)  256         ['block_8_project[0][0]']        \n",
            " lization)                                                                                        \n",
            "                                                                                                  \n",
            " block_8_add (Add)              (None, 14, 14, 64)   0           ['block_7_add[0][0]',            \n",
            "                                                                  'block_8_project_BN[0][0]']     \n",
            "                                                                                                  \n",
            " block_9_expand (Conv2D)        (None, 14, 14, 384)  24576       ['block_8_add[0][0]']            \n",
            "                                                                                                  \n",
            " block_9_expand_BN (BatchNormal  (None, 14, 14, 384)  1536       ['block_9_expand[0][0]']         \n",
            " ization)                                                                                         \n",
            "                                                                                                  \n",
            " block_9_expand_relu (ReLU)     (None, 14, 14, 384)  0           ['block_9_expand_BN[0][0]']      \n",
            "                                                                                                  \n",
            " block_9_depthwise (DepthwiseCo  (None, 14, 14, 384)  3456       ['block_9_expand_relu[0][0]']    \n",
            " nv2D)                                                                                            \n",
            "                                                                                                  \n",
            " block_9_depthwise_BN (BatchNor  (None, 14, 14, 384)  1536       ['block_9_depthwise[0][0]']      \n",
            " malization)                                                                                      \n",
            "                                                                                                  \n",
            " block_9_depthwise_relu (ReLU)  (None, 14, 14, 384)  0           ['block_9_depthwise_BN[0][0]']   \n",
            "                                                                                                  \n",
            " block_9_project (Conv2D)       (None, 14, 14, 64)   24576       ['block_9_depthwise_relu[0][0]'] \n",
            "                                                                                                  \n",
            " block_9_project_BN (BatchNorma  (None, 14, 14, 64)  256         ['block_9_project[0][0]']        \n",
            " lization)                                                                                        \n",
            "                                                                                                  \n",
            " block_9_add (Add)              (None, 14, 14, 64)   0           ['block_8_add[0][0]',            \n",
            "                                                                  'block_9_project_BN[0][0]']     \n",
            "                                                                                                  \n",
            " block_10_expand (Conv2D)       (None, 14, 14, 384)  24576       ['block_9_add[0][0]']            \n",
            "                                                                                                  \n",
            " block_10_expand_BN (BatchNorma  (None, 14, 14, 384)  1536       ['block_10_expand[0][0]']        \n",
            " lization)                                                                                        \n",
            "                                                                                                  \n",
            " block_10_expand_relu (ReLU)    (None, 14, 14, 384)  0           ['block_10_expand_BN[0][0]']     \n",
            "                                                                                                  \n",
            " block_10_depthwise (DepthwiseC  (None, 14, 14, 384)  3456       ['block_10_expand_relu[0][0]']   \n",
            " onv2D)                                                                                           \n",
            "                                                                                                  \n",
            " block_10_depthwise_BN (BatchNo  (None, 14, 14, 384)  1536       ['block_10_depthwise[0][0]']     \n",
            " rmalization)                                                                                     \n",
            "                                                                                                  \n",
            " block_10_depthwise_relu (ReLU)  (None, 14, 14, 384)  0          ['block_10_depthwise_BN[0][0]']  \n",
            "                                                                                                  \n",
            " block_10_project (Conv2D)      (None, 14, 14, 96)   36864       ['block_10_depthwise_relu[0][0]']\n",
            "                                                                                                  \n",
            " block_10_project_BN (BatchNorm  (None, 14, 14, 96)  384         ['block_10_project[0][0]']       \n",
            " alization)                                                                                       \n",
            "                                                                                                  \n",
            " block_11_expand (Conv2D)       (None, 14, 14, 576)  55296       ['block_10_project_BN[0][0]']    \n",
            "                                                                                                  \n",
            " block_11_expand_BN (BatchNorma  (None, 14, 14, 576)  2304       ['block_11_expand[0][0]']        \n",
            " lization)                                                                                        \n",
            "                                                                                                  \n",
            " block_11_expand_relu (ReLU)    (None, 14, 14, 576)  0           ['block_11_expand_BN[0][0]']     \n",
            "                                                                                                  \n",
            " block_11_depthwise (DepthwiseC  (None, 14, 14, 576)  5184       ['block_11_expand_relu[0][0]']   \n",
            " onv2D)                                                                                           \n",
            "                                                                                                  \n",
            " block_11_depthwise_BN (BatchNo  (None, 14, 14, 576)  2304       ['block_11_depthwise[0][0]']     \n",
            " rmalization)                                                                                     \n",
            "                                                                                                  \n",
            " block_11_depthwise_relu (ReLU)  (None, 14, 14, 576)  0          ['block_11_depthwise_BN[0][0]']  \n",
            "                                                                                                  \n",
            " block_11_project (Conv2D)      (None, 14, 14, 96)   55296       ['block_11_depthwise_relu[0][0]']\n",
            "                                                                                                  \n",
            " block_11_project_BN (BatchNorm  (None, 14, 14, 96)  384         ['block_11_project[0][0]']       \n",
            " alization)                                                                                       \n",
            "                                                                                                  \n",
            " block_11_add (Add)             (None, 14, 14, 96)   0           ['block_10_project_BN[0][0]',    \n",
            "                                                                  'block_11_project_BN[0][0]']    \n",
            "                                                                                                  \n",
            " block_12_expand (Conv2D)       (None, 14, 14, 576)  55296       ['block_11_add[0][0]']           \n",
            "                                                                                                  \n",
            " block_12_expand_BN (BatchNorma  (None, 14, 14, 576)  2304       ['block_12_expand[0][0]']        \n",
            " lization)                                                                                        \n",
            "                                                                                                  \n",
            " block_12_expand_relu (ReLU)    (None, 14, 14, 576)  0           ['block_12_expand_BN[0][0]']     \n",
            "                                                                                                  \n",
            " block_12_depthwise (DepthwiseC  (None, 14, 14, 576)  5184       ['block_12_expand_relu[0][0]']   \n",
            " onv2D)                                                                                           \n",
            "                                                                                                  \n",
            " block_12_depthwise_BN (BatchNo  (None, 14, 14, 576)  2304       ['block_12_depthwise[0][0]']     \n",
            " rmalization)                                                                                     \n",
            "                                                                                                  \n",
            " block_12_depthwise_relu (ReLU)  (None, 14, 14, 576)  0          ['block_12_depthwise_BN[0][0]']  \n",
            "                                                                                                  \n",
            " block_12_project (Conv2D)      (None, 14, 14, 96)   55296       ['block_12_depthwise_relu[0][0]']\n",
            "                                                                                                  \n",
            " block_12_project_BN (BatchNorm  (None, 14, 14, 96)  384         ['block_12_project[0][0]']       \n",
            " alization)                                                                                       \n",
            "                                                                                                  \n",
            " block_12_add (Add)             (None, 14, 14, 96)   0           ['block_11_add[0][0]',           \n",
            "                                                                  'block_12_project_BN[0][0]']    \n",
            "                                                                                                  \n",
            " block_13_expand (Conv2D)       (None, 14, 14, 576)  55296       ['block_12_add[0][0]']           \n",
            "                                                                                                  \n",
            " block_13_expand_BN (BatchNorma  (None, 14, 14, 576)  2304       ['block_13_expand[0][0]']        \n",
            " lization)                                                                                        \n",
            "                                                                                                  \n",
            " block_13_expand_relu (ReLU)    (None, 14, 14, 576)  0           ['block_13_expand_BN[0][0]']     \n",
            "                                                                                                  \n",
            " block_13_pad (ZeroPadding2D)   (None, 15, 15, 576)  0           ['block_13_expand_relu[0][0]']   \n",
            "                                                                                                  \n",
            " block_13_depthwise (DepthwiseC  (None, 7, 7, 576)   5184        ['block_13_pad[0][0]']           \n",
            " onv2D)                                                                                           \n",
            "                                                                                                  \n",
            " block_13_depthwise_BN (BatchNo  (None, 7, 7, 576)   2304        ['block_13_depthwise[0][0]']     \n",
            " rmalization)                                                                                     \n",
            "                                                                                                  \n",
            " block_13_depthwise_relu (ReLU)  (None, 7, 7, 576)   0           ['block_13_depthwise_BN[0][0]']  \n",
            "                                                                                                  \n",
            " block_13_project (Conv2D)      (None, 7, 7, 160)    92160       ['block_13_depthwise_relu[0][0]']\n",
            "                                                                                                  \n",
            " block_13_project_BN (BatchNorm  (None, 7, 7, 160)   640         ['block_13_project[0][0]']       \n",
            " alization)                                                                                       \n",
            "                                                                                                  \n",
            " block_14_expand (Conv2D)       (None, 7, 7, 960)    153600      ['block_13_project_BN[0][0]']    \n",
            "                                                                                                  \n",
            " block_14_expand_BN (BatchNorma  (None, 7, 7, 960)   3840        ['block_14_expand[0][0]']        \n",
            " lization)                                                                                        \n",
            "                                                                                                  \n",
            " block_14_expand_relu (ReLU)    (None, 7, 7, 960)    0           ['block_14_expand_BN[0][0]']     \n",
            "                                                                                                  \n",
            " block_14_depthwise (DepthwiseC  (None, 7, 7, 960)   8640        ['block_14_expand_relu[0][0]']   \n",
            " onv2D)                                                                                           \n",
            "                                                                                                  \n",
            " block_14_depthwise_BN (BatchNo  (None, 7, 7, 960)   3840        ['block_14_depthwise[0][0]']     \n",
            " rmalization)                                                                                     \n",
            "                                                                                                  \n",
            " block_14_depthwise_relu (ReLU)  (None, 7, 7, 960)   0           ['block_14_depthwise_BN[0][0]']  \n",
            "                                                                                                  \n",
            " block_14_project (Conv2D)      (None, 7, 7, 160)    153600      ['block_14_depthwise_relu[0][0]']\n",
            "                                                                                                  \n",
            " block_14_project_BN (BatchNorm  (None, 7, 7, 160)   640         ['block_14_project[0][0]']       \n",
            " alization)                                                                                       \n",
            "                                                                                                  \n",
            " block_14_add (Add)             (None, 7, 7, 160)    0           ['block_13_project_BN[0][0]',    \n",
            "                                                                  'block_14_project_BN[0][0]']    \n",
            "                                                                                                  \n",
            " block_15_expand (Conv2D)       (None, 7, 7, 960)    153600      ['block_14_add[0][0]']           \n",
            "                                                                                                  \n",
            " block_15_expand_BN (BatchNorma  (None, 7, 7, 960)   3840        ['block_15_expand[0][0]']        \n",
            " lization)                                                                                        \n",
            "                                                                                                  \n",
            " block_15_expand_relu (ReLU)    (None, 7, 7, 960)    0           ['block_15_expand_BN[0][0]']     \n",
            "                                                                                                  \n",
            " block_15_depthwise (DepthwiseC  (None, 7, 7, 960)   8640        ['block_15_expand_relu[0][0]']   \n",
            " onv2D)                                                                                           \n",
            "                                                                                                  \n",
            " block_15_depthwise_BN (BatchNo  (None, 7, 7, 960)   3840        ['block_15_depthwise[0][0]']     \n",
            " rmalization)                                                                                     \n",
            "                                                                                                  \n",
            " block_15_depthwise_relu (ReLU)  (None, 7, 7, 960)   0           ['block_15_depthwise_BN[0][0]']  \n",
            "                                                                                                  \n",
            " block_15_project (Conv2D)      (None, 7, 7, 160)    153600      ['block_15_depthwise_relu[0][0]']\n",
            "                                                                                                  \n",
            " block_15_project_BN (BatchNorm  (None, 7, 7, 160)   640         ['block_15_project[0][0]']       \n",
            " alization)                                                                                       \n",
            "                                                                                                  \n",
            " block_15_add (Add)             (None, 7, 7, 160)    0           ['block_14_add[0][0]',           \n",
            "                                                                  'block_15_project_BN[0][0]']    \n",
            "                                                                                                  \n",
            " block_16_expand (Conv2D)       (None, 7, 7, 960)    153600      ['block_15_add[0][0]']           \n",
            "                                                                                                  \n",
            " block_16_expand_BN (BatchNorma  (None, 7, 7, 960)   3840        ['block_16_expand[0][0]']        \n",
            " lization)                                                                                        \n",
            "                                                                                                  \n",
            " block_16_expand_relu (ReLU)    (None, 7, 7, 960)    0           ['block_16_expand_BN[0][0]']     \n",
            "                                                                                                  \n",
            " block_16_depthwise (DepthwiseC  (None, 7, 7, 960)   8640        ['block_16_expand_relu[0][0]']   \n",
            " onv2D)                                                                                           \n",
            "                                                                                                  \n",
            " block_16_depthwise_BN (BatchNo  (None, 7, 7, 960)   3840        ['block_16_depthwise[0][0]']     \n",
            " rmalization)                                                                                     \n",
            "                                                                                                  \n",
            " block_16_depthwise_relu (ReLU)  (None, 7, 7, 960)   0           ['block_16_depthwise_BN[0][0]']  \n",
            "                                                                                                  \n",
            " block_16_project (Conv2D)      (None, 7, 7, 320)    307200      ['block_16_depthwise_relu[0][0]']\n",
            "                                                                                                  \n",
            " block_16_project_BN (BatchNorm  (None, 7, 7, 320)   1280        ['block_16_project[0][0]']       \n",
            " alization)                                                                                       \n",
            "                                                                                                  \n",
            " Conv_1 (Conv2D)                (None, 7, 7, 1280)   409600      ['block_16_project_BN[0][0]']    \n",
            "                                                                                                  \n",
            " Conv_1_bn (BatchNormalization)  (None, 7, 7, 1280)  5120        ['Conv_1[0][0]']                 \n",
            "                                                                                                  \n",
            " out_relu (ReLU)                (None, 7, 7, 1280)   0           ['Conv_1_bn[0][0]']              \n",
            "                                                                                                  \n",
            "==================================================================================================\n",
            "Total params: 2,257,984\n",
            "Trainable params: 2,223,872\n",
            "Non-trainable params: 34,112\n",
            "__________________________________________________________________________________________________\n",
            "None\n"
          ]
        }
      ]
    },
    {
      "cell_type": "code",
      "source": [],
      "metadata": {
        "id": "jWQ52fUiOAJ8"
      },
      "execution_count": null,
      "outputs": []
    },
    {
      "cell_type": "code",
      "source": [
        "from tensorflow.keras.layers import MaxPooling2D\n",
        "from keras.layers.core import Dropout\n",
        "\n",
        "from tensorflow.keras.models import Model\n",
        "headModel= base_model.output\n",
        "headModel=MaxPooling2D(pool_size=(2,2))(headModel)\n",
        "headModel=Flatten(name=\"flatten\")(headModel)\n",
        "headModel=Dense(64,activation=\"relu\")(headModel)\n",
        "headModel=Dropout(0.2)(headModel)\n",
        "headModel=Dense(11,activation=\"softmax\")(headModel)\n",
        "model=Model(inputs=base_model.input,outputs=headModel)\n",
        "for layer in base_model.layers:\n",
        "  layer.trainable=False\n",
        "\n",
        "# These are commands of CNN(Down)\n",
        "\n",
        "# from tensorflow.keras import datasets, layers, models\n",
        "# model=models.Sequential()\n",
        "# model.add(layers.Conv2D(32,(3,3), activation='relu', input_shape=(224,224,3)))\n",
        "# model.add(layers.MaxPooling2D((2,2)))\n",
        "# model.add(layers.Conv2D(64, (3,3), activation='relu'))\n",
        "# model.add(layers.MaxPooling2D((2,2)))\n",
        "# model.add(layers.Conv2D(64, (3,3), activation='relu'))\n",
        "# model.add(layers.Flatten())\n",
        "# model.add(layers.Dense(64, activation='relu'))\n",
        "# model.add(layers.Dense(11, activation='softmax'))"
      ],
      "metadata": {
        "id": "xTMb9mIAMlFN"
      },
      "execution_count": null,
      "outputs": []
    },
    {
      "cell_type": "code",
      "source": [
        "from tensorflow.keras.optimizers import Adam\n",
        "print(\"[INFO] compiling model...\")\n",
        "opt=Adam(lr=1e-4)\n",
        "\n",
        "model.compile(loss=\"sparse_categorical_crossentropy\", optimizer=opt,\n",
        "              metrics=[\"accuracy\"])\n",
        "print(\"[INFO] training head...\")\n",
        "\n",
        "model_hist=model.fit(x_train,y_train,epochs=10,validation_data=(x_test,y_test),batch_size=180)"
      ],
      "metadata": {
        "colab": {
          "base_uri": "https://localhost:8080/"
        },
        "id": "npdOsyacMnHa",
        "outputId": "1eb8168c-a342-4c4c-f525-30044ec3552d"
      },
      "execution_count": null,
      "outputs": [
        {
          "output_type": "stream",
          "name": "stderr",
          "text": [
            "WARNING:absl:`lr` is deprecated in Keras optimizer, please use `learning_rate` or use the legacy optimizer, e.g.,tf.keras.optimizers.legacy.Adam.\n"
          ]
        },
        {
          "output_type": "stream",
          "name": "stdout",
          "text": [
            "[INFO] compiling model...\n",
            "[INFO] training head...\n",
            "Epoch 1/10\n",
            "10/10 [==============================] - 124s 13s/step - loss: 3.9783 - accuracy: 0.2835 - val_loss: 1.7510 - val_accuracy: 0.3690\n",
            "Epoch 2/10\n",
            "10/10 [==============================] - 110s 11s/step - loss: 1.5462 - accuracy: 0.4405 - val_loss: 1.4814 - val_accuracy: 0.5069\n",
            "Epoch 3/10\n",
            "10/10 [==============================] - 109s 11s/step - loss: 1.2514 - accuracy: 0.5612 - val_loss: 1.2929 - val_accuracy: 0.5862\n",
            "Epoch 4/10\n",
            "10/10 [==============================] - 93s 10s/step - loss: 1.0161 - accuracy: 0.6371 - val_loss: 1.1165 - val_accuracy: 0.6552\n",
            "Epoch 5/10\n",
            "10/10 [==============================] - 112s 11s/step - loss: 0.8060 - accuracy: 0.7044 - val_loss: 1.0511 - val_accuracy: 0.7052\n",
            "Epoch 6/10\n",
            "10/10 [==============================] - 100s 10s/step - loss: 0.7485 - accuracy: 0.7280 - val_loss: 0.9931 - val_accuracy: 0.7103\n",
            "Epoch 7/10\n",
            "10/10 [==============================] - 120s 13s/step - loss: 0.6645 - accuracy: 0.7660 - val_loss: 1.0375 - val_accuracy: 0.6966\n",
            "Epoch 8/10\n",
            "10/10 [==============================] - 120s 12s/step - loss: 0.5981 - accuracy: 0.7918 - val_loss: 0.9369 - val_accuracy: 0.7241\n",
            "Epoch 9/10\n",
            "10/10 [==============================] - 111s 12s/step - loss: 0.4970 - accuracy: 0.8263 - val_loss: 0.9241 - val_accuracy: 0.7293\n",
            "Epoch 10/10\n",
            "10/10 [==============================] - 117s 12s/step - loss: 0.4418 - accuracy: 0.8482 - val_loss: 0.9684 - val_accuracy: 0.7414\n"
          ]
        }
      ]
    },
    {
      "cell_type": "code",
      "source": [
        "model.save(\"model.h3\")\n"
      ],
      "metadata": {
        "colab": {
          "base_uri": "https://localhost:8080/"
        },
        "id": "YUrZZJaYRqE5",
        "outputId": "55ce33c8-a575-437f-f2fd-0eb043f5febf"
      },
      "execution_count": null,
      "outputs": [
        {
          "output_type": "stream",
          "name": "stderr",
          "text": [
            "WARNING:absl:Found untraced functions such as _jit_compiled_convolution_op, _jit_compiled_convolution_op, _jit_compiled_convolution_op, _jit_compiled_convolution_op, _jit_compiled_convolution_op while saving (showing 5 of 53). These functions will not be directly callable after loading.\n"
          ]
        }
      ]
    },
    {
      "cell_type": "code",
      "source": [
        "from tensorflow.keras.preprocessing import image\n",
        "def testing_image(image_directory):\n",
        "  test_image=image.load_img(image_directory, target_size=(224,224))\n",
        "  test_image=image.img_to_array(test_image)\n",
        "  test_image=np.expand_dims(test_image, axis=0)\n",
        "  test_image=test_image/255\n",
        "  result=model.predict(x=test_image)\n",
        "  print(result)\n",
        "  if np.argmax(result)== 0:\n",
        "    prediction= 'Crab'\n",
        "  elif np.argmax(result)== 1:\n",
        "    prediction= 'Dolphin'\n",
        "  elif np.argmax(result)== 2:\n",
        "    prediction= 'Eel'\n",
        "  elif np.argmax(result)== 3:\n",
        "    prediction= 'Jelly Fish'\n",
        "  elif np.argmax(result)== 4:\n",
        "    prediction= 'Lobster'\n",
        "  elif np.argmax(result)== 5:\n",
        "    prediction= 'Octopus'\n",
        "  elif np.argmax(result)== 6:\n",
        "    prediction= 'Penguin'\n",
        "  elif np.argmax(result)== 7:\n",
        "    prediction= 'Seahorse'\n",
        "  elif np.argmax(result)== 8:\n",
        "    prediction= 'Starfish'\n",
        "  elif np.argmax(result)== 9:\n",
        "    prediction= 'Turtle_Tortoise'\n",
        "  elif np.argmax(result)== 10:\n",
        "    prediction= 'Whale'\n",
        "\n",
        "  return prediction"
      ],
      "metadata": {
        "id": "orUdHqv0Cua7"
      },
      "execution_count": null,
      "outputs": []
    },
    {
      "cell_type": "code",
      "source": [
        "print(testing_image('/content/drive/MyDrive/DL Datasets/Sea Fish Dataset/Sea Fishes Dataset Edited/Crabs/14305505763_cf0c04a4c9_o.jpg'))"
      ],
      "metadata": {
        "colab": {
          "base_uri": "https://localhost:8080/"
        },
        "id": "3UVEEUGTC7Pm",
        "outputId": "50b3d59a-7d43-4f16-f28c-a475e4102663"
      },
      "execution_count": null,
      "outputs": [
        {
          "output_type": "stream",
          "name": "stdout",
          "text": [
            "1/1 [==============================] - 0s 70ms/step\n",
            "[[9.6283561e-01 5.3883489e-04 1.7471981e-06 2.4576588e-03 2.6668259e-04\n",
            "  5.8859034e-04 6.3174048e-05 6.2156742e-04 7.5344404e-05 3.2515239e-02\n",
            "  3.5609664e-05]]\n",
            "Crab\n"
          ]
        }
      ]
    },
    {
      "cell_type": "code",
      "source": [
        "print(testing_image('/content/drive/MyDrive/DL Datasets/Sea Fish Dataset/Sea Fishes Dataset Edited/Dolphin/6079914961_73bfeecbf9_o.jpg'))"
      ],
      "metadata": {
        "colab": {
          "base_uri": "https://localhost:8080/"
        },
        "id": "oNWJ9y-bC9n_",
        "outputId": "55562eaa-167f-449e-d9a5-11345f94ef8a"
      },
      "execution_count": null,
      "outputs": [
        {
          "output_type": "stream",
          "name": "stdout",
          "text": [
            "1/1 [==============================] - 0s 64ms/step\n",
            "[[6.5462464e-06 9.7399139e-01 6.0903393e-09 2.0466525e-04 9.9568488e-04\n",
            "  2.0712973e-04 4.7162521e-05 4.2362753e-08 1.8657272e-07 1.2763100e-07\n",
            "  2.4547070e-02]]\n",
            "Dolphin\n"
          ]
        }
      ]
    },
    {
      "cell_type": "code",
      "source": [
        "print(testing_image('/content/drive/MyDrive/DL Datasets/Sea Fish Dataset/Sea Fishes Dataset Edited/Eel/13170307045_a6c776c632_o.jpg'))"
      ],
      "metadata": {
        "colab": {
          "base_uri": "https://localhost:8080/"
        },
        "id": "96xZmQNwDxqj",
        "outputId": "2c923630-2a14-44e4-ae0c-a6cdac3d4096"
      },
      "execution_count": null,
      "outputs": [
        {
          "output_type": "stream",
          "name": "stdout",
          "text": [
            "1/1 [==============================] - 0s 173ms/step\n",
            "[[0.04478999 0.05784832 0.25088528 0.01566708 0.05116455 0.06863502\n",
            "  0.07993509 0.10406996 0.10815796 0.05090693 0.16793986]]\n",
            "Eel\n"
          ]
        }
      ]
    },
    {
      "cell_type": "code",
      "source": [
        "print(testing_image('/content/drive/MyDrive/DL Datasets/Sea Fish Dataset/Sea Fishes Dataset Edited/Jelly Fish/14331959343_45b748f229_b.jpg'))"
      ],
      "metadata": {
        "colab": {
          "base_uri": "https://localhost:8080/"
        },
        "id": "da2lHyogDx_e",
        "outputId": "88213f0a-c653-4d1c-e108-d02b59945ca0"
      },
      "execution_count": null,
      "outputs": [
        {
          "output_type": "stream",
          "name": "stdout",
          "text": [
            "1/1 [==============================] - 0s 69ms/step\n",
            "[[2.0601080e-07 2.7072962e-04 5.1743097e-08 9.9838281e-01 5.1348592e-04\n",
            "  2.9827427e-07 1.2691273e-08 1.2628360e-06 4.3878208e-12 1.7636111e-06\n",
            "  8.2928198e-04]]\n",
            "Jelly Fish\n"
          ]
        }
      ]
    },
    {
      "cell_type": "code",
      "source": [
        "print(testing_image('/content/drive/MyDrive/DL Datasets/Sea Fish Dataset/Sea Fishes Dataset Edited/Lobster/13964394414_c15dc672fc_b.jpg'))"
      ],
      "metadata": {
        "colab": {
          "base_uri": "https://localhost:8080/"
        },
        "id": "ofAlAIphDyd9",
        "outputId": "20e5bae7-a736-45fb-eda2-4a2ea6b99ea7"
      },
      "execution_count": null,
      "outputs": [
        {
          "output_type": "stream",
          "name": "stdout",
          "text": [
            "1/1 [==============================] - 0s 63ms/step\n",
            "[[1.72150764e-03 1.46199707e-02 2.74057221e-03 4.39169295e-02\n",
            "  4.45964009e-01 3.58709954e-02 1.82846081e-04 2.20527992e-01\n",
            "  1.05086627e-04 1.13661557e-01 1.20688505e-01]]\n",
            "Lobster\n"
          ]
        }
      ]
    },
    {
      "cell_type": "code",
      "source": [
        "print(testing_image('/content/drive/MyDrive/DL Datasets/Sea Fish Dataset/Sea Fishes Dataset Edited/Octopus/12186301654_e7c8a9e89c_o.jpg'))"
      ],
      "metadata": {
        "colab": {
          "base_uri": "https://localhost:8080/"
        },
        "id": "fHGI1P2lDy2a",
        "outputId": "2e12c2c9-cf90-41a8-9765-947521cf02f2"
      },
      "execution_count": null,
      "outputs": [
        {
          "output_type": "stream",
          "name": "stdout",
          "text": [
            "1/1 [==============================] - 0s 106ms/step\n",
            "[[0.01477304 0.09650148 0.03727651 0.0008848  0.02058157 0.36791903\n",
            "  0.01582278 0.11623484 0.03464645 0.05809611 0.23726343]]\n",
            "Octopus\n"
          ]
        }
      ]
    },
    {
      "cell_type": "code",
      "source": [
        "print(testing_image('/content/drive/MyDrive/DL Datasets/Sea Fish Dataset/Sea Fishes Dataset Edited/Penguin/13217360313_e50902b6ee_o.jpg'))"
      ],
      "metadata": {
        "colab": {
          "base_uri": "https://localhost:8080/"
        },
        "id": "UIl-HxCrDzRr",
        "outputId": "6dce99fb-940f-49f2-856e-1ff64164e482"
      },
      "execution_count": null,
      "outputs": [
        {
          "output_type": "stream",
          "name": "stdout",
          "text": [
            "1/1 [==============================] - 0s 170ms/step\n",
            "[[4.72717889e-04 8.81493613e-02 2.07080971e-02 2.80442350e-06\n",
            "  4.45490468e-06 4.50854888e-04 6.51791036e-01 3.90474615e-03\n",
            "  1.19876482e-01 1.09043058e-05 1.14628606e-01]]\n",
            "Penguin\n"
          ]
        }
      ]
    },
    {
      "cell_type": "code",
      "source": [
        "print(testing_image('/content/drive/MyDrive/DL Datasets/Sea Fish Dataset/Sea Fishes Dataset Edited/Seahorse/15942875240_8b9242e742_b.jpg'))"
      ],
      "metadata": {
        "colab": {
          "base_uri": "https://localhost:8080/"
        },
        "id": "YaZ5E1SmDz51",
        "outputId": "07bcef25-4de3-4709-e548-ac28547d384c"
      },
      "execution_count": null,
      "outputs": [
        {
          "output_type": "stream",
          "name": "stdout",
          "text": [
            "1/1 [==============================] - 0s 64ms/step\n",
            "[[8.6573988e-07 3.5015272e-04 2.9715005e-05 3.2534599e-02 1.1776456e-02\n",
            "  2.8776651e-04 4.8207451e-04 9.5289099e-01 8.9986443e-06 1.4264284e-03\n",
            "  2.1194748e-04]]\n",
            "Seahorse\n"
          ]
        }
      ]
    },
    {
      "cell_type": "code",
      "source": [
        "print(testing_image('/content/drive/MyDrive/DL Datasets/Sea Fish Dataset/Sea Fishes Dataset Edited/Starfish/14308001574_2576e36830_b.jpg'))"
      ],
      "metadata": {
        "colab": {
          "base_uri": "https://localhost:8080/"
        },
        "id": "Lj7REYIuD0PQ",
        "outputId": "832b67d1-592a-4f83-8a92-0387180c1452"
      },
      "execution_count": null,
      "outputs": [
        {
          "output_type": "stream",
          "name": "stdout",
          "text": [
            "1/1 [==============================] - 0s 68ms/step\n",
            "[[1.5022373e-07 4.3684607e-09 1.1621721e-06 2.4639718e-10 5.7856187e-06\n",
            "  1.1021608e-09 1.6268204e-05 9.7811281e-08 9.9995470e-01 2.1761540e-05\n",
            "  3.7366515e-08]]\n",
            "Starfish\n"
          ]
        }
      ]
    },
    {
      "cell_type": "code",
      "source": [
        "print(testing_image('/content/drive/MyDrive/DL Datasets/Sea Fish Dataset/Sea Fishes Dataset Edited/Turtle_Tortoise/Turtle_Tortoise (1084).jpg'))"
      ],
      "metadata": {
        "colab": {
          "base_uri": "https://localhost:8080/"
        },
        "id": "ozqUxbewD0qM",
        "outputId": "10029407-ea93-4fd3-8c55-38eedc4dcfb4"
      },
      "execution_count": null,
      "outputs": [
        {
          "output_type": "stream",
          "name": "stdout",
          "text": [
            "1/1 [==============================] - 0s 111ms/step\n",
            "[[6.9429370e-06 2.4892573e-04 7.2621560e-07 5.4515176e-06 7.0578908e-04\n",
            "  2.0784562e-04 3.8061976e-06 1.9969370e-03 2.8292058e-04 9.9652988e-01\n",
            "  1.0699460e-05]]\n",
            "Turtle_Tortoise\n"
          ]
        }
      ]
    },
    {
      "cell_type": "code",
      "source": [
        "print(testing_image('/content/drive/MyDrive/DL Datasets/Sea Fish Dataset/Sea Fishes Dataset Edited/Whale/12524370965_7a1c01eab6_o.jpg'))"
      ],
      "metadata": {
        "colab": {
          "base_uri": "https://localhost:8080/"
        },
        "id": "z4-ObEHkD1AF",
        "outputId": "21422b79-e7eb-4ac2-9091-136f7f603b95"
      },
      "execution_count": null,
      "outputs": [
        {
          "output_type": "stream",
          "name": "stdout",
          "text": [
            "1/1 [==============================] - 0s 123ms/step\n",
            "[[1.89318566e-03 5.47491275e-02 4.27161540e-05 8.06549549e-01\n",
            "  3.25008482e-02 5.21976850e-04 1.09090855e-04 3.22430948e-04\n",
            "  3.98576822e-06 9.56084055e-04 1.02351092e-01]]\n",
            "Jelly Fish\n"
          ]
        }
      ]
    },
    {
      "cell_type": "code",
      "source": [
        "print(testing_image('/content/drive/MyDrive/DL Datasets/Sea Fish Dataset/Sea Fishes Dataset Edited/Crabs/14305505763_cf0c04a4c9_o.jpg'))"
      ],
      "metadata": {
        "colab": {
          "base_uri": "https://localhost:8080/"
        },
        "id": "QYBGlQmND1W_",
        "outputId": "2942d423-9e30-4636-f6cc-e419cd1b363c"
      },
      "execution_count": null,
      "outputs": [
        {
          "output_type": "stream",
          "name": "stdout",
          "text": [
            "1/1 [==============================] - 0s 104ms/step\n",
            "[[9.6283561e-01 5.3883489e-04 1.7471981e-06 2.4576588e-03 2.6668259e-04\n",
            "  5.8859034e-04 6.3174048e-05 6.2156742e-04 7.5344404e-05 3.2515239e-02\n",
            "  3.5609664e-05]]\n",
            "Crab\n"
          ]
        }
      ]
    },
    {
      "cell_type": "code",
      "source": [],
      "metadata": {
        "id": "APPJuqQnD1ux"
      },
      "execution_count": null,
      "outputs": []
    }
  ]
}