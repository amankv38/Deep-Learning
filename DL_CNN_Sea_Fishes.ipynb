{
  "nbformat": 4,
  "nbformat_minor": 0,
  "metadata": {
    "colab": {
      "provenance": [],
      "mount_file_id": "1-WqPsGqHdwNd-meQcd10Ju3y7As-6Jfs",
      "authorship_tag": "ABX9TyMec41SzEqrmlrbwPEJPMD2",
      "include_colab_link": true
    },
    "kernelspec": {
      "name": "python3",
      "display_name": "Python 3"
    },
    "language_info": {
      "name": "python"
    }
  },
  "cells": [
    {
      "cell_type": "markdown",
      "metadata": {
        "id": "view-in-github",
        "colab_type": "text"
      },
      "source": [
        "<a href=\"https://colab.research.google.com/github/amankv38/Deep-Learning/blob/main/DL_CNN_Sea_Fishes.ipynb\" target=\"_parent\"><img src=\"https://colab.research.google.com/assets/colab-badge.svg\" alt=\"Open In Colab\"/></a>"
      ]
    },
    {
      "cell_type": "code",
      "execution_count": 1,
      "metadata": {
        "id": "Qf9QRfgPacru"
      },
      "outputs": [],
      "source": [
        "import cv2\n",
        "from glob import glob\n",
        "import pathlib\n",
        "import numpy as np\n",
        "import pandas as pd\n",
        "import tensorflow as tf\n",
        "import matplotlib.pyplot as plt\n"
      ]
    },
    {
      "cell_type": "code",
      "source": [
        "from tensorflow.keras import Sequential\n",
        "from tensorflow.keras.layers import Flatten,Dense,Conv3D,MaxPool3D\n",
        "from tensorflow.keras.optimizers import Adam\n",
        "from tensorflow.keras.losses import SparseCategoricalCrossentropy"
      ],
      "metadata": {
        "id": "W1hd4SHvaj_M"
      },
      "execution_count": 2,
      "outputs": []
    },
    {
      "cell_type": "code",
      "source": [
        "sea_fish=pathlib.Path(\"/content/drive/MyDrive/DL Datasets/Sea Fish Dataset/Sea Fishes Dataset Edited\")"
      ],
      "metadata": {
        "id": "QrJrBZufamZ8"
      },
      "execution_count": 3,
      "outputs": []
    },
    {
      "cell_type": "code",
      "source": [
        "zero_list=list(sea_fish.glob(\"Crabs/*.jpg\"))\n",
        "one_list=list(sea_fish.glob(\"Dolphin/*.jpg\"))\n",
        "two_list=list(sea_fish.glob(\"Eel/*.jpg\"))\n",
        "three_list=list(sea_fish.glob(\"Jelly Fish/*.jpg\"))\n",
        "four_list=list(sea_fish.glob(\"Lobster/*.jpg\"))\n",
        "five_list=list(sea_fish.glob(\"Octopus/*.jpg\"))\n",
        "six_list=list(sea_fish.glob(\"Penguin/*.jpg\"))\n",
        "seven_list=list(sea_fish.glob(\"Seahorse/*.jpg\"))\n",
        "eight_list=list(sea_fish.glob(\"Starfish/*.jpg\"))\n",
        "nine_list=list(sea_fish.glob(\"Turtle_Tortoise/*.jpg\"))\n",
        "ten_list=list(sea_fish.glob(\"Whale/*.jpg\"))\n",
        "\n"
      ],
      "metadata": {
        "id": "Hsu9imDKa0NJ"
      },
      "execution_count": 4,
      "outputs": []
    },
    {
      "cell_type": "code",
      "source": [
        "len(zero_list),len(one_list),len(two_list),len(three_list),len(four_list),len(five_list),len(six_list),len(seven_list),len(eight_list),len(nine_list),len(ten_list)"
      ],
      "metadata": {
        "colab": {
          "base_uri": "https://localhost:8080/"
        },
        "id": "uV6_VL2Yb2AL",
        "outputId": "c33fea28-2475-49c3-80d7-aaeacd3f76db"
      },
      "execution_count": 5,
      "outputs": [
        {
          "output_type": "execute_result",
          "data": {
            "text/plain": [
              "(200, 223, 195, 216, 217, 210, 202, 206, 223, 212, 215)"
            ]
          },
          "metadata": {},
          "execution_count": 5
        }
      ]
    },
    {
      "cell_type": "code",
      "source": [
        "fish_dict={\"Crabs\":zero_list,\n",
        "               \"Dolphin\":one_list,\n",
        "               \"Eel\":two_list,\n",
        "               \"Jelly Fish\":three_list,\n",
        "               \"Lobster\":four_list,\n",
        "               \"Octopus\":five_list,\n",
        "               \"Penguin\":six_list,\n",
        "               \"Seahorse\":seven_list,\n",
        "               \"Starfish\":eight_list,\n",
        "               \"Turtle_Tortoise\":nine_list,\n",
        "               \"Whale\":ten_list}\n",
        "\n",
        "fish_class={\"Crabs\":0,\n",
        "               \"Dolphin\":1,\n",
        "               \"Eel\":2,\n",
        "               \"Jelly Fish\":3,\n",
        "               \"Lobster\":4,\n",
        "               \"Octopus\":5,\n",
        "               \"Penguin\":6,\n",
        "               \"Seahorse\":7,\n",
        "               \"Starfish\":8,\n",
        "               \"Turtle_Tortoise\":9,\n",
        "               \"Whale\":10}"
      ],
      "metadata": {
        "id": "7_GTl8s7b6WX"
      },
      "execution_count": 6,
      "outputs": []
    },
    {
      "cell_type": "code",
      "source": [
        "x=[]\n",
        "y=[]"
      ],
      "metadata": {
        "id": "iizf3YVlc9eN"
      },
      "execution_count": 7,
      "outputs": []
    },
    {
      "cell_type": "code",
      "source": [
        "for i in fish_dict:\n",
        "  fish_name=i\n",
        "  sea_fish_list=fish_dict[fish_name]\n",
        "  for path in sea_fish_list:\n",
        "    img=cv2.imread(str(path))\n",
        "    img=cv2.resize(img,(224,224))\n",
        "    img=img/255\n",
        "    x.append(img)\n",
        "    cls=fish_class[fish_name]\n",
        "    y.append(cls)"
      ],
      "metadata": {
        "id": "an-b4fXldAK8"
      },
      "execution_count": 8,
      "outputs": []
    },
    {
      "cell_type": "code",
      "source": [
        "len(x)"
      ],
      "metadata": {
        "colab": {
          "base_uri": "https://localhost:8080/"
        },
        "id": "LQXL5kDMdU-Z",
        "outputId": "9c4cce21-2cab-468e-a657-4c76917a92a5"
      },
      "execution_count": 9,
      "outputs": [
        {
          "output_type": "execute_result",
          "data": {
            "text/plain": [
              "2319"
            ]
          },
          "metadata": {},
          "execution_count": 9
        }
      ]
    },
    {
      "cell_type": "code",
      "source": [
        "x=np.array(x)\n",
        "y=np.array(y)"
      ],
      "metadata": {
        "id": "zlQyq_jSdYhx"
      },
      "execution_count": 10,
      "outputs": []
    },
    {
      "cell_type": "code",
      "source": [
        "from sklearn.model_selection import train_test_split\n",
        "x_train,x_test,y_train,y_test=train_test_split(x,y,train_size=0.75,random_state=1)"
      ],
      "metadata": {
        "id": "uP2oRIKPdr3I"
      },
      "execution_count": 11,
      "outputs": []
    },
    {
      "cell_type": "code",
      "source": [
        "len(x_train),len(y_train),len(x_test),len(y_test)"
      ],
      "metadata": {
        "colab": {
          "base_uri": "https://localhost:8080/"
        },
        "id": "uWe8rw9gduRv",
        "outputId": "ffa66286-c998-401a-b6bc-865e013ff813"
      },
      "execution_count": 12,
      "outputs": [
        {
          "output_type": "execute_result",
          "data": {
            "text/plain": [
              "(1739, 1739, 580, 580)"
            ]
          },
          "metadata": {},
          "execution_count": 12
        }
      ]
    },
    {
      "cell_type": "code",
      "source": [
        "x_train.shape"
      ],
      "metadata": {
        "colab": {
          "base_uri": "https://localhost:8080/"
        },
        "id": "CiW_HzCVdwfa",
        "outputId": "dc2b8608-90f9-4c8b-fabc-a49092895e89"
      },
      "execution_count": 13,
      "outputs": [
        {
          "output_type": "execute_result",
          "data": {
            "text/plain": [
              "(1739, 224, 224, 3)"
            ]
          },
          "metadata": {},
          "execution_count": 13
        }
      ]
    },
    {
      "cell_type": "code",
      "source": [
        "x_train.shape,x_test.shape"
      ],
      "metadata": {
        "colab": {
          "base_uri": "https://localhost:8080/"
        },
        "id": "Nfe08vBwdyul",
        "outputId": "8555758b-7601-4f4f-e4fa-81b7a6106b4a"
      },
      "execution_count": 14,
      "outputs": [
        {
          "output_type": "execute_result",
          "data": {
            "text/plain": [
              "((1739, 224, 224, 3), (580, 224, 224, 3))"
            ]
          },
          "metadata": {},
          "execution_count": 14
        }
      ]
    },
    {
      "cell_type": "code",
      "source": [
        "from tensorflow.keras.layers import MaxPooling2D\n",
        "from keras.layers.core import Dropout\n",
        "from tensorflow.keras import datasets, layers, models\n",
        "model=models.Sequential()\n",
        "model.add(layers.Conv2D(32,(3,3), activation='relu', input_shape=(224,224,3)))\n",
        "model.add(layers.MaxPooling2D((2,2)))\n",
        "model.add(layers.Conv2D(64, (3,3), activation='relu'))\n",
        "model.add(layers.MaxPooling2D((2,2)))\n",
        "model.add(layers.Conv2D(64, (3,3), activation='relu'))\n",
        "model.add(layers.Flatten())\n",
        "model.add(layers.Dense(64, activation='relu'))\n",
        "model.add(layers.Dense(11, activation='softmax'))"
      ],
      "metadata": {
        "id": "m2LFEC_sd01j"
      },
      "execution_count": 15,
      "outputs": []
    },
    {
      "cell_type": "code",
      "source": [
        "model.compile(optimizer='adam',\n",
        "              loss=tf.keras.losses.SparseCategoricalCrossentropy(from_logits=True),\n",
        "              metrics=['accuracy'])\n",
        "history=model.fit(x_train,y_train, epochs=15,\n",
        "                  validation_data=(x_test,y_test))"
      ],
      "metadata": {
        "colab": {
          "base_uri": "https://localhost:8080/"
        },
        "id": "ievC__cCd6_z",
        "outputId": "834286b6-9da7-418f-c90a-a0fe006a81cb"
      },
      "execution_count": 16,
      "outputs": [
        {
          "output_type": "stream",
          "name": "stdout",
          "text": [
            "Epoch 1/15\n"
          ]
        },
        {
          "output_type": "stream",
          "name": "stderr",
          "text": [
            "/usr/local/lib/python3.9/dist-packages/keras/backend.py:5612: UserWarning: \"`sparse_categorical_crossentropy` received `from_logits=True`, but the `output` argument was produced by a Softmax activation and thus does not represent logits. Was this intended?\n",
            "  output, from_logits = _get_logits(\n"
          ]
        },
        {
          "output_type": "stream",
          "name": "stdout",
          "text": [
            "55/55 [==============================] - 130s 2s/step - loss: 2.0921 - accuracy: 0.2582 - val_loss: 1.9793 - val_accuracy: 0.2897\n",
            "Epoch 2/15\n",
            "55/55 [==============================] - 129s 2s/step - loss: 1.7070 - accuracy: 0.3824 - val_loss: 1.8540 - val_accuracy: 0.3724\n",
            "Epoch 3/15\n",
            "55/55 [==============================] - 128s 2s/step - loss: 1.5580 - accuracy: 0.4416 - val_loss: 1.8081 - val_accuracy: 0.3793\n",
            "Epoch 4/15\n",
            "55/55 [==============================] - 129s 2s/step - loss: 1.2802 - accuracy: 0.5463 - val_loss: 1.8512 - val_accuracy: 0.3862\n",
            "Epoch 5/15\n",
            "55/55 [==============================] - 130s 2s/step - loss: 0.8362 - accuracy: 0.7142 - val_loss: 2.3356 - val_accuracy: 0.3741\n",
            "Epoch 6/15\n",
            "55/55 [==============================] - 129s 2s/step - loss: 0.4586 - accuracy: 0.8401 - val_loss: 2.7884 - val_accuracy: 0.4034\n",
            "Epoch 7/15\n",
            "55/55 [==============================] - 141s 3s/step - loss: 0.2250 - accuracy: 0.9229 - val_loss: 3.1256 - val_accuracy: 0.3552\n",
            "Epoch 8/15\n",
            "55/55 [==============================] - 132s 2s/step - loss: 0.1548 - accuracy: 0.9523 - val_loss: 3.5583 - val_accuracy: 0.3500\n",
            "Epoch 9/15\n",
            "55/55 [==============================] - 131s 2s/step - loss: 0.0806 - accuracy: 0.9764 - val_loss: 4.7752 - val_accuracy: 0.3690\n",
            "Epoch 10/15\n",
            "55/55 [==============================] - 131s 2s/step - loss: 0.1021 - accuracy: 0.9707 - val_loss: 3.9442 - val_accuracy: 0.3379\n",
            "Epoch 11/15\n",
            "55/55 [==============================] - 130s 2s/step - loss: 0.0702 - accuracy: 0.9804 - val_loss: 4.0432 - val_accuracy: 0.3672\n",
            "Epoch 12/15\n",
            "55/55 [==============================] - 140s 3s/step - loss: 0.0532 - accuracy: 0.9833 - val_loss: 5.5567 - val_accuracy: 0.3155\n",
            "Epoch 13/15\n",
            "55/55 [==============================] - 130s 2s/step - loss: 0.0170 - accuracy: 0.9954 - val_loss: 5.6276 - val_accuracy: 0.3466\n",
            "Epoch 14/15\n",
            "55/55 [==============================] - 131s 2s/step - loss: 0.0099 - accuracy: 0.9971 - val_loss: 6.2226 - val_accuracy: 0.3569\n",
            "Epoch 15/15\n",
            "55/55 [==============================] - 131s 2s/step - loss: 0.0093 - accuracy: 0.9971 - val_loss: 5.6014 - val_accuracy: 0.3672\n"
          ]
        }
      ]
    },
    {
      "cell_type": "code",
      "source": [
        "model.save(\"model.h4\")\n"
      ],
      "metadata": {
        "colab": {
          "base_uri": "https://localhost:8080/"
        },
        "id": "dBpJEIZ9d7oJ",
        "outputId": "bee463d1-c81f-43b9-82fb-2e03009b4558"
      },
      "execution_count": 18,
      "outputs": [
        {
          "output_type": "stream",
          "name": "stderr",
          "text": [
            "WARNING:absl:Found untraced functions such as _jit_compiled_convolution_op, _jit_compiled_convolution_op, _jit_compiled_convolution_op, _update_step_xla while saving (showing 4 of 4). These functions will not be directly callable after loading.\n"
          ]
        }
      ]
    },
    {
      "cell_type": "code",
      "source": [
        "from tensorflow.keras.preprocessing import image\n",
        "def testing_image(image_directory):\n",
        "  test_image=image.load_img(image_directory, target_size=(224,224))\n",
        "  test_image=image.img_to_array(test_image)\n",
        "  test_image=np.expand_dims(test_image, axis=0)\n",
        "  test_image=test_image/255\n",
        "  result=model.predict(x=test_image)\n",
        "  print(result)\n",
        "  if np.argmax(result)== 0:\n",
        "    prediction= 'Crab'\n",
        "  elif np.argmax(result)== 1:\n",
        "    prediction= 'Dolphin'\n",
        "  elif np.argmax(result)== 2:\n",
        "    prediction= 'Eel'\n",
        "  elif np.argmax(result)== 3:\n",
        "    prediction= 'Jelly Fish'\n",
        "  elif np.argmax(result)== 4:\n",
        "    prediction= 'Lobster'\n",
        "  elif np.argmax(result)== 5:\n",
        "    prediction= 'Octopus'\n",
        "  elif np.argmax(result)== 6:\n",
        "    prediction= 'Penguin'\n",
        "  elif np.argmax(result)== 7:\n",
        "    prediction= 'Seahorse'\n",
        "  elif np.argmax(result)== 8:\n",
        "    prediction= 'Starfish'\n",
        "  elif np.argmax(result)== 9:\n",
        "    prediction= 'Turtle_Tortoise'\n",
        "  elif np.argmax(result)== 10:\n",
        "    prediction= 'Whale'\n",
        "\n",
        "  return prediction"
      ],
      "metadata": {
        "id": "vJ2O3JShd_zI"
      },
      "execution_count": 19,
      "outputs": []
    },
    {
      "cell_type": "code",
      "source": [
        "print(testing_image('/content/drive/MyDrive/DL Datasets/Sea Fish Dataset/Sea Fishes Dataset Edited/Dolphin/Dolphin (192).jpg'))"
      ],
      "metadata": {
        "id": "ZKYFDr30Bbcj",
        "outputId": "72e2a1e8-0bf1-4102-bb19-2e6e3f69ccb4",
        "colab": {
          "base_uri": "https://localhost:8080/"
        }
      },
      "execution_count": 35,
      "outputs": [
        {
          "output_type": "stream",
          "name": "stdout",
          "text": [
            "1/1 [==============================] - 0s 63ms/step\n",
            "[[9.9314308e-01 1.9589042e-08 1.5573610e-07 8.8417128e-06 1.2407547e-07\n",
            "  2.1872622e-05 4.8641522e-09 1.6086047e-05 3.3463163e-03 3.4636059e-03\n",
            "  2.1859742e-08]]\n",
            "Crab\n"
          ]
        }
      ]
    },
    {
      "cell_type": "code",
      "source": [],
      "metadata": {
        "id": "JR73JXDYBn-H"
      },
      "execution_count": null,
      "outputs": []
    }
  ]
}