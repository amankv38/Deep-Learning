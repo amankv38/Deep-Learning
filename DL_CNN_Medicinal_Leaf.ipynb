{
  "cells": [
    {
      "cell_type": "markdown",
      "metadata": {
        "id": "view-in-github",
        "colab_type": "text"
      },
      "source": [
        "<a href=\"https://colab.research.google.com/github/amankv38/Deep-Learning/blob/main/DL_CNN_Medicinal_Leaf.ipynb\" target=\"_parent\"><img src=\"https://colab.research.google.com/assets/colab-badge.svg\" alt=\"Open In Colab\"/></a>"
      ]
    },
    {
      "cell_type": "code",
      "execution_count": null,
      "metadata": {
        "id": "qI9Dadf8qxMW"
      },
      "outputs": [],
      "source": [
        "import cv2\n",
        "from glob import glob\n",
        "import pathlib\n",
        "import numpy as np\n",
        "import pandas as pd\n",
        "import tensorflow as tf\n",
        "import matplotlib.pyplot as plt\n"
      ]
    },
    {
      "cell_type": "code",
      "execution_count": null,
      "metadata": {
        "id": "WyyRvlxssKMO"
      },
      "outputs": [],
      "source": [
        "from tensorflow.keras import Sequential\n",
        "from tensorflow.keras.layers import Flatten,Dense,Conv3D,MaxPool3D\n",
        "from tensorflow.keras.optimizers import Adam\n",
        "from tensorflow.keras.losses import SparseCategoricalCrossentropy"
      ]
    },
    {
      "cell_type": "code",
      "execution_count": null,
      "metadata": {
        "id": "rXnliCgks4x4"
      },
      "outputs": [],
      "source": [
        "med_leaf=pathlib.Path(\"/content/drive/MyDrive/DL Datasets/Medicinal Leaf Dataset/Medicinal Leaf Dataset Edited\")"
      ]
    },
    {
      "cell_type": "code",
      "execution_count": null,
      "metadata": {
        "id": "u2c9MIrWtUIK"
      },
      "outputs": [],
      "source": [
        "zero_list=list(med_leaf.glob(\"Curry/*.jpg\"))\n",
        "one_list=list(med_leaf.glob(\"Drumstick/*.jpg\"))\n",
        "two_list=list(med_leaf.glob(\"Guava/*.jpg\"))\n",
        "three_list=list(med_leaf.glob(\"Indian Mustard/*.jpg\"))\n",
        "four_list=list(med_leaf.glob(\"Jackfruit/*.jpg\"))\n",
        "five_list=list(med_leaf.glob(\"Jasmine/*.jpg\"))\n",
        "six_list=list(med_leaf.glob(\"Lemon/*.jpg\"))\n",
        "seven_list=list(med_leaf.glob(\"Mango/*.jpg\"))\n",
        "eight_list=list(med_leaf.glob(\"Mint/*.jpg\"))\n",
        "nine_list=list(med_leaf.glob(\"Neem/*.jpg\"))\n",
        "ten_list=list(med_leaf.glob(\"Peepal Tree/*.jpg\"))\n",
        "eleven_list=list(med_leaf.glob(\"Pomegranate/*.jpg\"))\n",
        "twelve_list=list(med_leaf.glob(\"Sandalwood/*.jpg\"))\n",
        "thirteen_list=list(med_leaf.glob(\"Tulsi/*.jpg\"))\n",
        "\n"
      ]
    },
    {
      "cell_type": "code",
      "execution_count": null,
      "metadata": {
        "colab": {
          "base_uri": "https://localhost:8080/"
        },
        "id": "GYqZfxXXzlr_",
        "outputId": "45286f44-49d5-4f4d-f954-5696850af6d8"
      },
      "outputs": [
        {
          "output_type": "execute_result",
          "data": {
            "text/plain": [
              "(240, 196, 195, 204, 224, 213, 228, 204, 194, 180, 189, 237, 174, 208)"
            ]
          },
          "metadata": {},
          "execution_count": 5
        }
      ],
      "source": [
        "len(zero_list),len(one_list),len(two_list),len(three_list),len(four_list),len(five_list),len(six_list),len(seven_list),len(eight_list),len(nine_list),len(ten_list),len(eleven_list),len(twelve_list),len(thirteen_list)"
      ]
    },
    {
      "cell_type": "code",
      "execution_count": null,
      "metadata": {
        "id": "hRs8qeRwuEbK"
      },
      "outputs": [],
      "source": [
        "medicine_dict={\"Curry\":zero_list,\n",
        "               \"Drumstick\":one_list,\n",
        "               \"Guava\":two_list,\n",
        "               \"Indian Mustard\":three_list,\n",
        "               \"Jackfruit\":four_list,\n",
        "               \"Jasmine\":five_list,\n",
        "               \"Lemon\":six_list,\n",
        "               \"Mango\":seven_list,\n",
        "               \"Mint\":eight_list,\n",
        "               \"Neem\":nine_list,\n",
        "               \"Peepal Tree\":ten_list,\n",
        "               \"Pomegranate\":eleven_list,\n",
        "               \"Sandalwood\":twelve_list,\n",
        "               \"Tulsi\":thirteen_list}\n",
        "\n",
        "medicine_class={\"Curry\":0,\n",
        "               \"Drumstick\":1,\n",
        "               \"Guava\":2,\n",
        "               \"Indian Mustard\":3,\n",
        "               \"Jackfruit\":4,\n",
        "               \"Jasmine\":5,\n",
        "               \"Lemon\":6,\n",
        "               \"Mango\":7,\n",
        "               \"Mint\":8,\n",
        "               \"Neem\":9,\n",
        "               \"Peepal Tree\":10,\n",
        "               \"Pomegranate\":11,\n",
        "               \"Sandalwood\":12,\n",
        "               \"Tulsi\":13}"
      ]
    },
    {
      "cell_type": "code",
      "execution_count": null,
      "metadata": {
        "id": "UMEngJpBuZBR"
      },
      "outputs": [],
      "source": [
        "x=[]\n",
        "y=[]"
      ]
    },
    {
      "cell_type": "code",
      "execution_count": null,
      "metadata": {
        "id": "XiDxCuzyucyW"
      },
      "outputs": [],
      "source": [
        "for i in medicine_dict:\n",
        "  medicine_name=i\n",
        "  med_leaf_list=medicine_dict[medicine_name]\n",
        "  for path in med_leaf_list:\n",
        "    img=cv2.imread(str(path))\n",
        "    img=cv2.resize(img,(224,224))\n",
        "    img=img/255\n",
        "    x.append(img)\n",
        "    cls=medicine_class[medicine_name]\n",
        "    y.append(cls)"
      ]
    },
    {
      "cell_type": "code",
      "execution_count": null,
      "metadata": {
        "colab": {
          "base_uri": "https://localhost:8080/"
        },
        "id": "PsXv_Bglux34",
        "outputId": "4996a5d3-4164-4b95-ba33-fee699cdc402"
      },
      "outputs": [
        {
          "output_type": "execute_result",
          "data": {
            "text/plain": [
              "2886"
            ]
          },
          "metadata": {},
          "execution_count": 9
        }
      ],
      "source": [
        "len(x)"
      ]
    },
    {
      "cell_type": "code",
      "execution_count": null,
      "metadata": {
        "id": "fABbqd5SvddJ"
      },
      "outputs": [],
      "source": [
        "x=np.array(x)\n",
        "y=np.array(y)"
      ]
    },
    {
      "cell_type": "code",
      "execution_count": null,
      "metadata": {
        "id": "yDlnMhuyvjQ_"
      },
      "outputs": [],
      "source": [
        "from sklearn.model_selection import train_test_split\n",
        "x_train,x_test,y_train,y_test=train_test_split(x,y,train_size=0.75,random_state=1)"
      ]
    },
    {
      "cell_type": "code",
      "execution_count": null,
      "metadata": {
        "id": "cksi9OJUv5cB",
        "colab": {
          "base_uri": "https://localhost:8080/"
        },
        "outputId": "b0ad3620-f29c-4dca-d05d-509d4cff03e6"
      },
      "outputs": [
        {
          "output_type": "execute_result",
          "data": {
            "text/plain": [
              "(2164, 2164, 722, 722)"
            ]
          },
          "metadata": {},
          "execution_count": 12
        }
      ],
      "source": [
        "len(x_train),len(y_train),len(x_test),len(y_test)"
      ]
    },
    {
      "cell_type": "code",
      "source": [],
      "metadata": {
        "id": "CROoZJszy_DY"
      },
      "execution_count": null,
      "outputs": []
    },
    {
      "cell_type": "code",
      "execution_count": null,
      "metadata": {
        "id": "XTH9vWq8wATc",
        "colab": {
          "base_uri": "https://localhost:8080/"
        },
        "outputId": "d7a3acfd-e07d-4e2f-bce1-522f9e524a33"
      },
      "outputs": [
        {
          "output_type": "execute_result",
          "data": {
            "text/plain": [
              "(2164, 224, 224, 3)"
            ]
          },
          "metadata": {},
          "execution_count": 13
        }
      ],
      "source": [
        "x_train.shape"
      ]
    },
    {
      "cell_type": "code",
      "execution_count": null,
      "metadata": {
        "id": "HNd8eHC9wKLb",
        "colab": {
          "base_uri": "https://localhost:8080/"
        },
        "outputId": "1988f2aa-a03d-41fa-eb43-88b033cf4362"
      },
      "outputs": [
        {
          "output_type": "execute_result",
          "data": {
            "text/plain": [
              "((2164, 224, 224, 3), (722, 224, 224, 3))"
            ]
          },
          "metadata": {},
          "execution_count": 14
        }
      ],
      "source": [
        "x_train.shape,x_test.shape"
      ]
    },
    {
      "cell_type": "code",
      "execution_count": null,
      "metadata": {
        "id": "htWMbmZewQ4E"
      },
      "outputs": [],
      "source": [
        "from tensorflow.keras.layers import MaxPooling2D\n",
        "from keras.layers.core import Dropout\n",
        "from tensorflow.keras import datasets, layers, models\n",
        "model=models.Sequential()\n",
        "model.add(layers.Conv2D(32,(3,3), activation='relu', input_shape=(224,224,3)))\n",
        "model.add(layers.MaxPooling2D((2,2)))\n",
        "model.add(layers.Conv2D(64, (3,3), activation='relu'))\n",
        "model.add(layers.MaxPooling2D((2,2)))\n",
        "model.add(layers.Conv2D(64, (3,3), activation='relu'))\n",
        "model.add(layers.Flatten())\n",
        "model.add(layers.Dense(64, activation='relu'))\n",
        "model.add(layers.Dense(14, activation='softmax'))"
      ]
    },
    {
      "cell_type": "code",
      "execution_count": null,
      "metadata": {
        "id": "wDhqi0KUx10N",
        "colab": {
          "base_uri": "https://localhost:8080/",
          "height": 234
        },
        "outputId": "be7070f5-293b-4a7d-f4fc-75ac06784f29"
      },
      "outputs": [
        {
          "output_type": "error",
          "ename": "NameError",
          "evalue": "ignored",
          "traceback": [
            "\u001b[0;31m---------------------------------------------------------------------------\u001b[0m",
            "\u001b[0;31mNameError\u001b[0m                                 Traceback (most recent call last)",
            "\u001b[0;32m<ipython-input-3-ac5365547f04>\u001b[0m in \u001b[0;36m<cell line: 1>\u001b[0;34m()\u001b[0m\n\u001b[1;32m      1\u001b[0m model.compile(optimizer='adam',\n\u001b[0;32m----> 2\u001b[0;31m               \u001b[0mloss\u001b[0m\u001b[0;34m=\u001b[0m\u001b[0mtf\u001b[0m\u001b[0;34m.\u001b[0m\u001b[0mkeras\u001b[0m\u001b[0;34m.\u001b[0m\u001b[0mlosses\u001b[0m\u001b[0;34m.\u001b[0m\u001b[0mSparseCategoricalCrossentropy\u001b[0m\u001b[0;34m(\u001b[0m\u001b[0mfrom_logits\u001b[0m\u001b[0;34m=\u001b[0m\u001b[0;32mTrue\u001b[0m\u001b[0;34m)\u001b[0m\u001b[0;34m,\u001b[0m\u001b[0;34m\u001b[0m\u001b[0;34m\u001b[0m\u001b[0m\n\u001b[0m\u001b[1;32m      3\u001b[0m               metrics=['accuracy'])\n\u001b[1;32m      4\u001b[0m history=model.fit(x_train,y_train, epochs=4,\n\u001b[1;32m      5\u001b[0m                   validation_data=(x_test,y_test))\n",
            "\u001b[0;31mNameError\u001b[0m: name 'tf' is not defined"
          ]
        }
      ],
      "source": [
        "model.compile(optimizer='adam',\n",
        "              loss=tf.keras.losses.SparseCategoricalCrossentropy(from_logits=True),\n",
        "              metrics=['accuracy'])\n",
        "history=model.fit(x_train,y_train, epochs=4,\n",
        "                  validation_data=(x_test,y_test))"
      ]
    },
    {
      "cell_type": "code",
      "execution_count": null,
      "metadata": {
        "id": "Y1s4q6GXya8h"
      },
      "outputs": [],
      "source": [
        "model.save(\"model.h5\")"
      ]
    },
    {
      "cell_type": "code",
      "execution_count": null,
      "metadata": {
        "id": "IhJa9HMA5tjs"
      },
      "outputs": [],
      "source": [
        "from tensorflow.keras.preprocessing import image\n",
        "def testing_image(image_directory):\n",
        "  test_image=image.load_img(image_directory, target_size=(224,224))\n",
        "  test_image=image.img_to_array(test_image)\n",
        "  test_image=np.expand_dims(test_image, axis=0)\n",
        "  test_image=test_image/255\n",
        "  result=model.predict(x=test_image)\n",
        "  print(result)\n",
        "  if np.argmax(result)== 0:\n",
        "    prediction= 'Curry'\n",
        "  elif np.argmax(result)== 1:\n",
        "    prediction= 'Drumstick'\n",
        "  elif np.argmax(result)== 2:\n",
        "    prediction= 'Guava'\n",
        "  elif np.argmax(result)== 3:\n",
        "    prediction= 'Indian Mustard'\n",
        "  elif np.argmax(result)== 4:\n",
        "    prediction= 'Jackfruit'\n",
        "  elif np.argmax(result)== 5:\n",
        "    prediction= 'Jasmine'\n",
        "  elif np.argmax(result)== 6:\n",
        "    prediction= 'Lemon'\n",
        "  elif np.argmax(result)== 7:\n",
        "    prediction= 'Mango'\n",
        "  elif np.argmax(result)== 8:\n",
        "    prediction= 'Mint'\n",
        "  elif np.argmax(result)== 9:\n",
        "    prediction= 'Neem'\n",
        "  elif np.argmax(result)== 10:\n",
        "    prediction= 'Peepal Tree'\n",
        "  elif np.argmax(result)== 11:\n",
        "    prediction= 'Pomegranate'\n",
        "  elif np.argmax(result)== 12:\n",
        "    prediction= 'Sandalwood'\n",
        "  elif np.argmax(result)== 13:\n",
        "    prediction= 'Tulsi'\n",
        "\n",
        "  return prediction\n"
      ]
    },
    {
      "cell_type": "code",
      "execution_count": null,
      "metadata": {
        "id": "QvrXTUZ28fqc"
      },
      "outputs": [],
      "source": [
        "print(testing_image('/content/drive/MyDrive/DL Datasets/Medicinal Leaf Dataset/Medicinal Leaf Dataset Edited/Lemon/CL-S-009.jpg'))"
      ]
    },
    {
      "cell_type": "code",
      "execution_count": null,
      "metadata": {
        "id": "GcnbGqRI8lah"
      },
      "outputs": [],
      "source": []
    }
  ],
  "metadata": {
    "colab": {
      "provenance": [],
      "mount_file_id": "1o9lNNML4W5Ex6eAa2qjMbJDHmhhvjLZT",
      "authorship_tag": "ABX9TyMJw2WGu+3EUdWbIznsm6m+",
      "include_colab_link": true
    },
    "kernelspec": {
      "display_name": "Python 3",
      "name": "python3"
    },
    "language_info": {
      "name": "python"
    }
  },
  "nbformat": 4,
  "nbformat_minor": 0
}